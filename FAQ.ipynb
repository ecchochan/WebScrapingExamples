{
 "cells": [
  {
   "cell_type": "markdown",
   "metadata": {},
   "source": [
    "# FAQ Collections\n",
    "\n",
    "## Description\n",
    "\n",
    "There exist many websites containing FAQ pages where we can find QA pairs.\n",
    "\n",
    "We would like to collect high-quality QA pairs from these websites.\n",
    "\n",
    "In this project, we limit the language of QA pairs to either English, Chinese or Japanese."
   ]
  },
  {
   "cell_type": "markdown",
   "metadata": {},
   "source": [
    "![Image of FAQ](https://www.redmineup.com/cms/assets/thumbnail//33165/800/faq.png)"
   ]
  },
  {
   "cell_type": "markdown",
   "metadata": {},
   "source": [
    "Below are the requirements:"
   ]
  },
  {
   "cell_type": "code",
   "execution_count": null,
   "metadata": {},
   "outputs": [],
   "source": [
    "# Example locations of websites\n",
    "\n",
    "countries = [\n",
    "    'China',\n",
    "    'English-speaking countries',\n",
    "    'Hong Kong',\n",
    "    'Taiwan',\n",
    "]\n",
    "\n",
    "# Languages\n",
    "\n",
    "langs = [\n",
    "    'en',\n",
    "    'cn',\n",
    "    'zh-HK',\n",
    "    'zh-TW',\n",
    "    'ja'    # 順手就要埋\n",
    "]\n",
    "\n",
    "\n",
    "# Example types of websites\n",
    "\n",
    "types = [\n",
    "    'airlines',\n",
    "    'banks',\n",
    "    'ecommerce/shops',\n",
    "    'campaigns/competitions',\n",
    "    'games',\n",
    "    'college/schools',\n",
    "    'restaurants',\n",
    "    'shopping malls',\n",
    "    'help center',\n",
    "    'handbook',\n",
    "]\n",
    "\n",
    "# Example websites\n",
    "\n",
    "urls = [\n",
    "    'http://commoncrawl.org/big-picture/frequently-asked-questions/',\n",
    "    'https://norwegian.custhelp.com/app/answers/list',\n",
    "    'https://www.linkreit.com/tc/faq/',\n",
    "    'https://alumni.cuhk.edu.hk/en/frequently-asked-questions',\n",
    "    'https://www.asiamiles.com/zh/support/help-centre/faq.html#/redeem/flight/general',\n",
    "    'https://www.blackbirdguitar.com/pages/faqs',\n",
    "    'https://www2.hm.com/zh_asia1/customer-service/product-and-quality/quality.html',\n",
    "    'https://www.travelclassroom.net/2011/08/rakuten-market-faq.html',\n",
    "    'https://healthtaphelp.zendesk.com/hc/en-us'\n",
    "]"
   ]
  },
  {
   "cell_type": "code",
   "execution_count": null,
   "metadata": {},
   "outputs": [],
   "source": []
  },
  {
   "cell_type": "markdown",
   "metadata": {},
   "source": [
    "## Output Format\n",
    "\n",
    "- Extension: json\n",
    "\n",
    "- Schema:\n",
    "\n",
    "```json\n",
    "{\n",
    "    'website': 'CUHK Alumni Affairs Office', // Same for each website\n",
    "    'name'   : 'CUHK Alumni Affairs Office', // 香港中文大學校友事務處 if \"lang\" is \"zh\"\n",
    "    'desc'   : '<p>Established in 1982, the Alumni Affairs Office (AAO) is committed to developing a connected alumni community and promoting alumni\\'s sense of belongings to their alma mater. Our missions are:</p>'\n",
    "    'url'    : 'https://alumni.cuhk.edu.hk/en/frequently-asked-questions',\n",
    "    'lang'   : 'en',\n",
    "    'items'  : [\n",
    "        {\n",
    "            'q': 'When would CU graduates become CU alumni?',  //  Text Only\n",
    "            'a': 'Once their graduate status is confirm ...',  //  Text / HTML\n",
    "        }\n",
    "    \n",
    "    \n",
    "    ]\n",
    "\n",
    "}\n",
    "\n",
    "```\n",
    "\n",
    "- For `'desc'`, you can just copy from the **About Us** page as *string* and save to the field.\n",
    "\n",
    "```html\n",
    "<p>Established in 1982, the Alumni Affairs Office (AAO) is committed to developing a connected alumni community and promoting alumni's sense of belongings to their alma mater. Our missions are:</p>\n",
    "<ul>\n",
    "\t<li style=\"z-index: 500;\">To draw alumni support on the cause of the University;</li>\n",
    "\t<li style=\"z-index: 490;\">To engage alumni to contribute to the University in various capacities;</li>\n",
    "\t<li style=\"z-index: 480;\">To facilitate alumni to serve as ambassadors of their alumni mater in order to help promote good relations between the University and the general public, and</li>\n",
    "\t<li style=\"z-index: 470;\">To draw alumni input in matters relating to the development of the University</li>\n",
    "</ul>\n",
    "```\n",
    "\n",
    "\n"
   ]
  },
  {
   "cell_type": "markdown",
   "metadata": {},
   "source": [
    "## Tools"
   ]
  },
  {
   "cell_type": "markdown",
   "metadata": {},
   "source": [
    "\n",
    "### 1. **Copy & Pase**\n",
    "\n",
    "    - Useful when there are only few QA pairs\n",
    "    - Text only \n",
    "    "
   ]
  },
  {
   "cell_type": "markdown",
   "metadata": {},
   "source": [
    "\n",
    "### 2. Python + Beautiful Soup (Single page)\n",
    "\n",
    "    - Useful when there are only few QA pairs\n",
    "    - Text only \n",
    "    "
   ]
  },
  {
   "cell_type": "markdown",
   "metadata": {},
   "source": [
    "#### Example\n",
    "- https://mitsui-shopping-park.com/lalaport/shinmisato/tw/faq/\n",
    "- https://mitsui-shopping-park.com/lalaport/shinmisato/en/faq/"
   ]
  },
  {
   "cell_type": "code",
   "execution_count": 52,
   "metadata": {},
   "outputs": [],
   "source": [
    "from HTMLSchemaParser import fetch_url, HTMLSchemaParser\n",
    "import urllib.parse\n",
    "from bs4 import BeautifulSoup as bs4\n",
    "from tqdm import tqdm\n",
    "from datetime import datetime, timedelta\n",
    "import re, json\n",
    "from tqdm import tqdm\n",
    "\n",
    "import os\n",
    "def makesure_dir(filename):\n",
    "    if not os.path.exists(os.path.dirname(filename)):\n",
    "        os.makedirs(os.path.dirname(filename))\n",
    "\n",
    "makesure_dir('data/temp')"
   ]
  },
  {
   "cell_type": "code",
   "execution_count": 64,
   "metadata": {},
   "outputs": [],
   "source": [
    "\n",
    "\n",
    "docs = []\n",
    "lang_mapping = {\n",
    "    'en': 'en',\n",
    "    'tw': 'zh-TW',\n",
    "}\n",
    "name_mapping = {\n",
    "    'en': 'Mitsui Fudosan Retail Management Co., Ltd.',   # Copy from the bottom of the website\n",
    "    'tw': '三井不動產',                                # I just googled it\n",
    "    \n",
    "}\n",
    "desc_mapping = {\n",
    "    'en': \"\"\"Located directly in front of the Musashino Line Shinmisato Station.\n",
    "This mall has 180 attractive shops that stimulate the desire to shop and dine. Ikea and COSTCO are located next door.\n",
    "The shopping mall includes the drugstore MatsumotoKiyoshi, Uniqlo and other casual fashion stores, Akachan Honpo's full lineup of baby goods, Edion's home electronics, and restaurants where you can enjoy a wide variety of Japanese dishes, such as taiyaki and takoyaki.\"\"\",\n",
    "    'tw': '''從武藏野線「新三鄉站」出站即能立刻抵達位於站前的本商場。\n",
    "本商場鄰接「IKEA」、「COSTCO」，購物中心內匯集了「松本清」藥妝店、「UNIQLO」等休閒時尚品牌、嬰幼兒商品琳瑯滿目的「阿卡將本舖」、販售家電產品的「EDION」，以及可品嚐日式料理、鯛魚燒與章魚燒等各式日本美食的餐廳等等，多達180間的魅力商店，可激發顧客購物及享受美食的慾望。''',\n",
    "}"
   ]
  },
  {
   "cell_type": "code",
   "execution_count": 65,
   "metadata": {},
   "outputs": [
    {
     "data": {
      "text/plain": [
       "2"
      ]
     },
     "execution_count": 65,
     "metadata": {},
     "output_type": "execute_result"
    }
   ],
   "source": [
    "\n",
    "\n",
    "for lang in lang_mapping:\n",
    "    url = 'https://mitsui-shopping-park.com/lalaport/shinmisato/%s/faq/'%lang\n",
    "    html = fetch_url(url)\n",
    "    soup = bs4(html)\n",
    "    result = []\n",
    "    for block in soup.select('.blockTypeA'):\n",
    "        q = block.select('h2')[0]\n",
    "        a = block.select('p')[0]\n",
    "\n",
    "        q = re.sub(r'Q\\d+: ', '', q.text.strip())\n",
    "        a = re.sub(r'A: ', '', a.text.strip())\n",
    "        result.append({\n",
    "            'q': q,\n",
    "            'a': a,\n",
    "        })\n",
    "        \n",
    "    doc = {\n",
    "        'website': 'Mitsui Fudosan Retail Management Co., Ltd.', # Copy from the bottom of the website\n",
    "        'name'   : name_mapping[lang], # Copy from the bottom of the website\n",
    "        'desc'   : desc_mapping[lang],\n",
    "        'url'    : url,\n",
    "        'lang'   : lang_mapping[lang],\n",
    "        'items'  : result\n",
    "\n",
    "    }\n",
    "    docs.append(doc)\n",
    "len(docs)"
   ]
  },
  {
   "cell_type": "code",
   "execution_count": 66,
   "metadata": {},
   "outputs": [
    {
     "data": {
      "text/plain": [
       "[{'desc': '從武藏野線「新三鄉站」出站即能立刻抵達位於站前的本商場。\\n本商場鄰接「IKEA」、「COSTCO」，購物中心內匯集了「松本清」藥妝店、「UNIQLO」等休閒時尚品牌、嬰幼兒商品琳瑯滿目的「阿卡將本舖」、販售家電產品的「EDION」，以及可品嚐日式料理、鯛魚燒與章魚燒等各式日本美食的餐廳等等，多達180間的魅力商店，可激發顧客購物及享受美食的慾望。',\n",
       "  'items': [{'a': '可以。有數間商店接受銀聯卡，但無法使用於所有店家。', 'q': '可以使用銀聯卡嗎？'},\n",
       "   {'a': '本商場無提供換錢服務。', 'q': '哪裡可以換錢？'},\n",
       "   {'a': '非常抱歉，本商場只有日語服務人員。', 'q': '有通曉日語以外語言的服務人員嗎？'},\n",
       "   {'a': '可以。本商場接受全球主要信用卡，刷卡前請先向各店家洽詢。', 'q': '可以使用信用卡嗎？'},\n",
       "   {'a': '可以。服務台提供免費租借嬰兒車之服務。', 'q': '可以租借嬰兒車嗎？'},\n",
       "   {'a': '在部分商店購物可免稅，詳情請向店家洽詢。', 'q': '購物可以免稅嗎？'},\n",
       "   {'a': '有的，1樓有松本清藥妝店。', 'q': '商場內有藥妝店嗎？'},\n",
       "   {'a': '有上下車場地，但無法停放車輛。', 'q': '有可供大型巴士上下車的場地嗎？'},\n",
       "   {'a': '有的，UNIQLO位於2樓。', 'q': '商場內有UNIQLO嗎？'}],\n",
       "  'lang': 'zh-TW',\n",
       "  'name': '三井不動產',\n",
       "  'url': 'https://mitsui-shopping-park.com/lalaport/shinmisato/tw/faq/',\n",
       "  'website': 'Mitsui Fudosan Retail Management Co., Ltd.'},\n",
       " {'desc': \"Located directly in front of the Musashino Line Shinmisato Station.\\nThis mall has 180 attractive shops that stimulate the desire to shop and dine. Ikea and COSTCO are located next door.\\nThe shopping mall includes the drugstore MatsumotoKiyoshi, Uniqlo and other casual fashion stores, Akachan Honpo's full lineup of baby goods, Edion's home electronics, and restaurants where you can enjoy a wide variety of Japanese dishes, such as taiyaki and takoyaki.\",\n",
       "  'items': [{'a': 'Yes. It can be used at a number of shops. However, not all shops accept it.',\n",
       "    'q': 'Can I use a UnionPay Card?'},\n",
       "   {'a': 'There is no foreign currency exchange available.',\n",
       "    'q': 'Where can I exchange foreign currency?'},\n",
       "   {'a': \"We're sorry, but we do not have support staff for languages other than Japanese.\",\n",
       "    'q': 'Are there staff members who can provide assistance in languages other than Japanese?'},\n",
       "   {'a': 'Yes. Major credit cards are accepted. Please ask at the individual store regarding specific cards.',\n",
       "    'q': 'Can I use credit cards?'},\n",
       "   {'a': 'Yes. They can be borrowed free of charge at the Information Desk.',\n",
       "    'q': 'Are strollers available?'},\n",
       "   {'a': 'Some shops provide duty-free shopping. Please ask at the individual shop for details.',\n",
       "    'q': 'Is duty-free shopping available?'},\n",
       "   {'a': 'Yes. The drugstore MatsumotoKiyoshi is located on the first floor.',\n",
       "    'q': 'Is there a drugstore?'},\n",
       "   {'a': 'Transfers can be made, but no parking is available.',\n",
       "    'q': 'Is there a place for boarding/disembarking large buses?'},\n",
       "   {'a': 'Yes. It is located on the second floor.',\n",
       "    'q': 'Is there a Uniqlo store?'}],\n",
       "  'lang': 'en',\n",
       "  'name': 'Mitsui Fudosan Retail Management Co., Ltd.',\n",
       "  'url': 'https://mitsui-shopping-park.com/lalaport/shinmisato/en/faq/',\n",
       "  'website': 'Mitsui Fudosan Retail Management Co., Ltd.'}]"
      ]
     },
     "execution_count": 66,
     "metadata": {},
     "output_type": "execute_result"
    }
   ],
   "source": [
    "docs"
   ]
  },
  {
   "cell_type": "code",
   "execution_count": 67,
   "metadata": {},
   "outputs": [],
   "source": [
    "with open('data/mitsui-shopping-park.json','w') as f:\n",
    "    json.dump(docs,f)"
   ]
  },
  {
   "cell_type": "code",
   "execution_count": 68,
   "metadata": {},
   "outputs": [
    {
     "data": {
      "text/plain": [
       "18"
      ]
     },
     "execution_count": 68,
     "metadata": {},
     "output_type": "execute_result"
    }
   ],
   "source": [
    "count = 0\n",
    "for doc in docs:\n",
    "    for e in doc['items']:\n",
    "        count += 1\n",
    "count"
   ]
  },
  {
   "cell_type": "code",
   "execution_count": 69,
   "metadata": {},
   "outputs": [
    {
     "data": {
      "text/plain": [
       "18"
      ]
     },
     "execution_count": 69,
     "metadata": {},
     "output_type": "execute_result"
    }
   ],
   "source": [
    "count = sum(1 for doc in docs for e in doc['items'])\n",
    "count"
   ]
  },
  {
   "cell_type": "markdown",
   "metadata": {},
   "source": [
    "#### Another Example\n",
    "\n",
    "- https://www.cpr.cuhk.edu.hk/cong/page/9\n",
    "\n",
    "- I found that there are other pages of FAQ, but the questions are just the same..."
   ]
  },
  {
   "cell_type": "code",
   "execution_count": 9,
   "metadata": {},
   "outputs": [],
   "source": []
  },
  {
   "cell_type": "code",
   "execution_count": 57,
   "metadata": {},
   "outputs": [
    {
     "data": {
      "text/plain": [
       "2"
      ]
     },
     "execution_count": 57,
     "metadata": {},
     "output_type": "execute_result"
    }
   ],
   "source": [
    "\n",
    "lang_mapping = {\n",
    "    'en': 'en',\n",
    "    'zh_tw': 'zh-TW',\n",
    "}\n",
    "name_mapping = {\n",
    "    'en': 'CUHK Communication and Public Relations Office Congregation',   # Copy from somewhere in the website HTML\n",
    "    'zh_tw': '香港中文大學傳訊及公共關係處  頒授學位典禮',      # I just typed it\n",
    "    \n",
    "}\n",
    "desc_mapping = {\n",
    "    'en': \"\",\n",
    "    'zh_tw': '',\n",
    "}\n",
    "docs = []\n",
    "\n",
    "def parent_util_tag(e,tag='p'):\n",
    "    while e.parent.name != 'p':\n",
    "        e = e.parent\n",
    "    return e.parent\n",
    "\n",
    "for lang in lang_mapping:\n",
    "    url = 'https://www.cpr.cuhk.edu.hk/cong/page/9?lang=%s'%lang\n",
    "    html = fetch_url(url)\n",
    "\n",
    "    soup = bs4(html)\n",
    "    result = []\n",
    "    questions = soup.select('[name^=\"q\"]')\n",
    "    answers = soup.select('.page_content [style=\"padding-left: 30px;\"]')\n",
    "\n",
    "\n",
    "    questions = [parent_util_tag(e).text.strip() for e in questions]\n",
    "    answers = [str(e).strip() for e in answers if e.text.strip()]  # str(e) = outerHTML     e.decode_contents() = innerHTML\n",
    "\n",
    "    assert len(answers) == len(questions), (len(answers), len(questions))\n",
    "    result = [{'q':q,'a':a } for q, a in zip(questions, answers)]\n",
    "    result\n",
    "    \n",
    "    \n",
    "    doc = {\n",
    "        'website': 'CUHK Communication and Public Relations Office Congregation',\n",
    "        'name'   : name_mapping[lang],   \n",
    "        'desc'   : desc_mapping[lang],\n",
    "        'url'    : url,\n",
    "        'lang'   : lang_mapping[lang],\n",
    "        'items'  : result\n",
    "\n",
    "    }\n",
    "    docs.append(doc)\n",
    "len(docs)"
   ]
  },
  {
   "cell_type": "code",
   "execution_count": 58,
   "metadata": {},
   "outputs": [],
   "source": [
    "# Below is testing\n",
    "\n",
    "url = 'https://www.cpr.cuhk.edu.hk/cong/page/9?lang=%s'%lang\n",
    "html = fetch_url(url)"
   ]
  },
  {
   "cell_type": "code",
   "execution_count": 59,
   "metadata": {
    "scrolled": true
   },
   "outputs": [
    {
     "data": {
      "text/plain": [
       "[{'a': '<p style=\"padding-left: 30px;\">畢業生需以其香港身份證號碼作為登入系統的密碼。沒有香港身份證的畢業生，可致電 3943-8899請求協助。</p>',\n",
       "  'q': '我為何不能登入畢業典禮的網上登記系統?'},\n",
       " {'a': '<p style=\"padding-left: 30px;\">頒授學位典禮一般在上午10時開始，約於上午11時完結；而書院畢業典禮一般需時約1.5至2.5個小時。</p>',\n",
       "  'q': '頒授學位典禮及書院畢業典禮約需時多久？'},\n",
       " {'a': '<p style=\"padding-left: 30px;\">不會。畢業生可於典禮後到指定地點領取畢業證書。詳情請參閱<a href=\"/cong/page/6\">領取畢業證書</a>。</p>',\n",
       "  'q': '我會否於畢業典禮時獲頒畢業證書?'},\n",
       " {'a': '<p style=\"padding-left: 30px;\">可以。如欲於頒授學位典禮後租用畢業學袍，請與商務組聯絡（電話：3943-4733；電郵：<span style=\"font-family: 新細明體; color: #000000;\"><a href=\"mailto:gown@cuhk.edu.hk\">gown@cuhk.edu.hk</a></span>）。</p>',\n",
       "  'q': '我不會出席任何畢業典禮，可否租用畢業學袍？'},\n",
       " {'a': '<p style=\"padding-left: 30px;\">請<a href=\"/cong/page/31#bachelor_proper_way\">按此</a>參考正確穿著方法。</p>',\n",
       "  'q': '怎樣才是正確穿著畢業學袍的方法?'},\n",
       " {'a': '<p style=\"padding-left: 30px;\">你可參加其中一個或兩個典禮。於頒授學位典禮中，全體畢業生會在台下肅立，集體領受學位（即不需登上禮台）；而於書院畢業典禮中，畢業生將獲個別介紹步上禮台。</p>',\n",
       "  'q': '我是學士學位畢業生，是否可參加頒授學位典禮或書院畢業典禮?'},\n",
       " {'a': '<p style=\"padding-left: 30px;\">不可以。</p>',\n",
       "  'q': '今年我未能出席畢業禮，可否於明年補行典禮?'},\n",
       " {'a': '<p style=\"padding-left: 30px;\">6歲以下之兒童須由親友陪同於大學校園內的演講廳觀看典禮現場直播。</p>',\n",
       "  'q': '我可否攜帶6歲以下之兒童出席畢業典禮？'},\n",
       " {'a': '<p style=\"padding-left: 30px;\">由於校內泊車位有限，請盡量使用公共交通工具前往典禮會場。大學備有專車於典禮前後接載畢業生及來賓往返港鐵大學站及典禮會場。大學亦備有復康巴士供有需要的畢業生及來賓使用。復康巴士站設於港鐵大學站外（大學校園內）。</p>',\n",
       "  'q': '畢業典禮當天，我可以使用哪些交通工具前往典禮會場?'},\n",
       " {'a': '<p style=\"padding-left: 30px;\">頒授學位典禮會以英語進行；而書院畢業典禮則以廣東話進行。典禮不會提供即時傳譯。</p>',\n",
       "  'q': '畢業典禮會以甚麼語言進行?'},\n",
       " {'a': '<p style=\"padding-left: 30px;\">畢業生可於2019年10月7日或以前在<a href=\"https://gradsrv.itsc.cuhk.edu.hk/cong/gr_login.aspx\" target=\"_blank\">網上登記系統</a>檢閱及更改自己的紀錄。如未能從系統檢取紀錄，請盡快以<a href=\"mailto:%20cong@cuhk.edu.hk\">電郵</a>通知我們需要更改的資料。</p>',\n",
       "  'q': '我已在畢業典禮網上完成登記程序，可否更改出席情況、嘉賓入場券數目及通訊地址等？'}]"
      ]
     },
     "execution_count": 59,
     "metadata": {},
     "output_type": "execute_result"
    }
   ],
   "source": [
    "\n",
    "soup = bs4(html)\n",
    "result = []\n",
    "questions = soup.select('[name^=\"q\"]')\n",
    "answers = soup.select('.page_content [style=\"padding-left: 30px;\"]')\n",
    "\n",
    "\n",
    "questions = [parent_util_tag(e).text.strip() for e in questions]\n",
    "answers = [str(e).strip() for e in answers if e.text.strip()]  # str(e) = outerHTML     e.decode_contents() = innerHTML\n",
    "\n",
    "assert len(answers) == len(questions), (len(answers), len(questions))\n",
    "result = [{'q':q,'a':a }for q, a in zip(questions, answers)]\n",
    "result"
   ]
  },
  {
   "cell_type": "code",
   "execution_count": 60,
   "metadata": {
    "scrolled": true
   },
   "outputs": [
    {
     "data": {
      "text/plain": [
       "[{'desc': '',\n",
       "  'items': [{'a': '<p style=\"padding-left: 30px;\">All graduates can log in to the system by using your Hong Kong Identity Card number as password. If you don\\'t have a Hong Kong Identity Card, please call 3943-8899 for help.</p>',\n",
       "    'q': \"Why can't I log in to the online registration system?\"},\n",
       "   {'a': '<p style=\"padding-left: 30px;\">The Congregation usually starts at 10:00 am and is expected to end at around 11:00 am; and the College Graduation Ceremony usually lasts for about 1.5 to 2.5 hours.</p>',\n",
       "    'q': 'How long will the Congregation and the College Graduation Ceremony last?'},\n",
       "   {'a': '<p style=\"padding-left: 30px;\">No. The certificate will be available for collection after the Congregation. Please refer to <a href=\"/cong/page/6\">Collection of Certificate</a> for details.</p>',\n",
       "    'q': 'Will I be presented with the degree certificate during the ceremony?'},\n",
       "   {'a': '<p style=\"padding-left: 30px;\">Yes, graduates who are not attending any of the graduation ceremonies may also rent a gown from the University. If you wish to rent a gown after the Congregation, please contact the Business Office at tel: 3943-4733 or email:\\xa0<a href=\"mailto:gown@cuhk.edu.hk\">gown@cuhk.edu.hk</a>.</p>',\n",
       "    'q': 'I will not attend any of the graduation ceremonies.\\xa0Can I rent an academic gown?'},\n",
       "   {'a': '<p style=\"padding-left: 30px;\">Please click <a href=\"/cong/page/31?lang=en#bachelor_proper_way\" target=\"_blank\">here</a>\\xa0for the proper way to wear the\\xa0academic gown.</p>',\n",
       "    'q': 'What is the proper way to wear the academic gown?'},\n",
       "   {'a': '<p style=\"padding-left: 30px;\">Yes, you can join one or both of the ceremonies. At the Congregation, you will be conferred your degree <em>en bloc</em> (i.e. you are not required to ascend the stage), while at the College Graduation Ceremony you are required to ascend the stage.</p>',\n",
       "    'q': \"I am a Bachelor's Degree graduate. Can I join the Congregation or the College Graduation Ceremony?\"},\n",
       "   {'a': '<p style=\"padding-left: 30px;\">No.</p>',\n",
       "    'q': \"May I attend next year's Congregation if I can't attend the Congregation this year?\"},\n",
       "   {'a': '<p style=\"padding-left: 30px;\">Children under 6 should be accompanied by an adult and be seated in a nearby lecture theatre for viewing the\\xa0live broadcast of the ceremony.</p>',\n",
       "    'q': 'Can I bring children under 6 to the Ceremony?'},\n",
       "   {'a': '<p style=\"padding-left: 30px;\">Due to limited parking space on campus, you are encouraged to travel by public transport. A shuttle-bus service will be provided between the MTR University Station and the ceremonial ground before and after the ceremony. A rehabilitation bus service will also be available at the MTR University Station.</p>',\n",
       "    'q': 'What transport can I take on the day of the Congregation?'},\n",
       "   {'a': '<p style=\"padding-left: 30px;\">The Congregation will be conducted in English while the College Graduation Ceremony will be conducted in Cantonese. No interpretation will be provided.</p>',\n",
       "    'q': 'What will be the language of the ceremonies?'},\n",
       "   {'a': '<p style=\"padding-left: 30px;\">You may log in to the <a href=\"https://gradsrv.itsc.cuhk.edu.hk/cong/gr_login.aspx\" target=\"_blank\">online registration system</a> to retrieve and amend your record on or\\xa0before 7 October 2019. If you are unable to access your record, please <a href=\"mailto:cong@cuhk.edu.hk\">email</a>\\xa0us the change as soon as possible.</p>',\n",
       "    'q': 'What should I do if I want to amend my information, such as attendance, number of guest tickets or mailing address for sending tickets, etc. after I have registered online?'}],\n",
       "  'lang': 'en',\n",
       "  'name': 'CUHK Communication and Public Relations Office Congregation',\n",
       "  'url': 'https://www.cpr.cuhk.edu.hk/cong/page/9?lang=en',\n",
       "  'website': 'CUHK Communication and Public Relations Office Congregation'},\n",
       " {'desc': '',\n",
       "  'items': [{'a': '<p style=\"padding-left: 30px;\">畢業生需以其香港身份證號碼作為登入系統的密碼。沒有香港身份證的畢業生，可致電 3943-8899請求協助。</p>',\n",
       "    'q': '我為何不能登入畢業典禮的網上登記系統?'},\n",
       "   {'a': '<p style=\"padding-left: 30px;\">頒授學位典禮一般在上午10時開始，約於上午11時完結；而書院畢業典禮一般需時約1.5至2.5個小時。</p>',\n",
       "    'q': '頒授學位典禮及書院畢業典禮約需時多久？'},\n",
       "   {'a': '<p style=\"padding-left: 30px;\">不會。畢業生可於典禮後到指定地點領取畢業證書。詳情請參閱<a href=\"/cong/page/6\">領取畢業證書</a>。</p>',\n",
       "    'q': '我會否於畢業典禮時獲頒畢業證書?'},\n",
       "   {'a': '<p style=\"padding-left: 30px;\">可以。如欲於頒授學位典禮後租用畢業學袍，請與商務組聯絡（電話：3943-4733；電郵：<span style=\"font-family: 新細明體; color: #000000;\"><a href=\"mailto:gown@cuhk.edu.hk\">gown@cuhk.edu.hk</a></span>）。</p>',\n",
       "    'q': '我不會出席任何畢業典禮，可否租用畢業學袍？'},\n",
       "   {'a': '<p style=\"padding-left: 30px;\">請<a href=\"/cong/page/31#bachelor_proper_way\">按此</a>參考正確穿著方法。</p>',\n",
       "    'q': '怎樣才是正確穿著畢業學袍的方法?'},\n",
       "   {'a': '<p style=\"padding-left: 30px;\">你可參加其中一個或兩個典禮。於頒授學位典禮中，全體畢業生會在台下肅立，集體領受學位（即不需登上禮台）；而於書院畢業典禮中，畢業生將獲個別介紹步上禮台。</p>',\n",
       "    'q': '我是學士學位畢業生，是否可參加頒授學位典禮或書院畢業典禮?'},\n",
       "   {'a': '<p style=\"padding-left: 30px;\">不可以。</p>',\n",
       "    'q': '今年我未能出席畢業禮，可否於明年補行典禮?'},\n",
       "   {'a': '<p style=\"padding-left: 30px;\">6歲以下之兒童須由親友陪同於大學校園內的演講廳觀看典禮現場直播。</p>',\n",
       "    'q': '我可否攜帶6歲以下之兒童出席畢業典禮？'},\n",
       "   {'a': '<p style=\"padding-left: 30px;\">由於校內泊車位有限，請盡量使用公共交通工具前往典禮會場。大學備有專車於典禮前後接載畢業生及來賓往返港鐵大學站及典禮會場。大學亦備有復康巴士供有需要的畢業生及來賓使用。復康巴士站設於港鐵大學站外（大學校園內）。</p>',\n",
       "    'q': '畢業典禮當天，我可以使用哪些交通工具前往典禮會場?'},\n",
       "   {'a': '<p style=\"padding-left: 30px;\">頒授學位典禮會以英語進行；而書院畢業典禮則以廣東話進行。典禮不會提供即時傳譯。</p>',\n",
       "    'q': '畢業典禮會以甚麼語言進行?'},\n",
       "   {'a': '<p style=\"padding-left: 30px;\">畢業生可於2019年10月7日或以前在<a href=\"https://gradsrv.itsc.cuhk.edu.hk/cong/gr_login.aspx\" target=\"_blank\">網上登記系統</a>檢閱及更改自己的紀錄。如未能從系統檢取紀錄，請盡快以<a href=\"mailto:%20cong@cuhk.edu.hk\">電郵</a>通知我們需要更改的資料。</p>',\n",
       "    'q': '我已在畢業典禮網上完成登記程序，可否更改出席情況、嘉賓入場券數目及通訊地址等？'}],\n",
       "  'lang': 'zh-TW',\n",
       "  'name': '香港中文大學傳訊及公共關係處  頒授學位典禮',\n",
       "  'url': 'https://www.cpr.cuhk.edu.hk/cong/page/9?lang=zh_tw',\n",
       "  'website': 'CUHK Communication and Public Relations Office Congregation'}]"
      ]
     },
     "execution_count": 60,
     "metadata": {},
     "output_type": "execute_result"
    }
   ],
   "source": [
    "docs"
   ]
  },
  {
   "cell_type": "code",
   "execution_count": null,
   "metadata": {},
   "outputs": [],
   "source": []
  },
  {
   "cell_type": "code",
   "execution_count": 11,
   "metadata": {},
   "outputs": [],
   "source": [
    "with open('data/cpr-cuhk-cong.json','w') as f:\n",
    "    json.dump(docs,f)"
   ]
  },
  {
   "cell_type": "code",
   "execution_count": 61,
   "metadata": {},
   "outputs": [
    {
     "data": {
      "text/plain": [
       "22"
      ]
     },
     "execution_count": 61,
     "metadata": {},
     "output_type": "execute_result"
    }
   ],
   "source": [
    "count = sum(1 for doc in docs for e in doc['items'])\n",
    "count"
   ]
  },
  {
   "cell_type": "markdown",
   "metadata": {},
   "source": [
    "\n",
    "\n",
    "### 3. Chrome + F12 + Javascript\n",
    "\n",
    "    - Useful when there are many QA pairs in one page\n",
    "    - Need HTML\n",
    "      e.g. https://alumni.cuhk.edu.hk/en/frequently-asked-questions\n",
    "\n",
    "    1. Select an element\n",
    "    2. Use css selector to select desired elements\n",
    "    3. Run `copy(items)`\n",
    "    4. Paste into Jupyter Notebook and play with it.\n",
    "    "
   ]
  },
  {
   "cell_type": "markdown",
   "metadata": {},
   "source": [
    "#### Example\n",
    "\n",
    "- url: https://alumni.cuhk.edu.hk/en/frequently-asked-questions\n",
    "\n",
    "\n",
    "1. `F12` to open `Console > Elements`\n"
   ]
  },
  {
   "attachments": {
    "image.png": {
     "image/png": "[encoded data removed]"
    }
   },
   "cell_type": "markdown",
   "metadata": {},
   "source": [
    "![image.png](attachment:image.png)"
   ]
  },
  {
   "cell_type": "markdown",
   "metadata": {},
   "source": [
    "\n",
    "\n",
    "2. Observe that All QA pairs in `<ol style=\"color: rgb(0, 0, 0);  \">`\n",
    "\n",
    "\n",
    "```html\n",
    "<section class=\"page\">\n",
    "  <div class=\"inner\">\n",
    "    <div class=\"content\">\n",
    "      <div class=\"sharesocial\" style=\"font-size: 23px;\">\n",
    "      <br>\n",
    "      <br>\n",
    "\n",
    "      <div class=\"content maincontent\" id=\"maincontent\">\n",
    "        <ol style=\"color: rgb(0, 0, 0);  \">\n",
    "          <li style=\"z-index: 460;\">\n",
    "            <a href=\"#01\" style=\"color: rgb(0, 150, 201);\">When would CU graduates become CU alumni?</a></li>\n",
    "            ...\n",
    "\n",
    "```\n",
    "\n",
    "3. Right Click on `<ol style=\"color: rgb(0, 0, 0);  \">`\n",
    "\n",
    "\n",
    "4. Edit as HTML, select & copy\n",
    "\n",
    "\n",
    "5. Paste below"
   ]
  },
  {
   "cell_type": "code",
   "execution_count": 30,
   "metadata": {},
   "outputs": [],
   "source": [
    "html = '''<ol style=\"color: rgb(0, 0, 0);  \">\n",
    "\t<li style=\"z-index: 190;\"><a name=\"01\" style=\"text-decoration: underline; color: rgb(0, 150, 201);\"></a>When would CU graduates become CU alumni?<br>\n",
    "\tOnce their graduate status is confirmed by the University Senate, graduates will become CU alumni.</li>\n",
    "\t<br>\n",
    "\t<li style=\"z-index: 180;\"><a name=\"02\" style=\"text-decoration: underline; color: rgb(0, 150, 201);\"></a>Is there a CU Alumni Card?<br>\n",
    "\tThere is no CU Alumni Card per se, but alumni can apply for the \"CU Alumni Credit Card\" to signify their special status as CU alumni. Holders of the \"CU Alumni Credit Card\" can enjoy special discount plus up to 4 hours of free parking when using campus facilities. For details and application, please visit <a href=\"cu-alumni-credit-card\" style=\"color: rgb(0, 150, 201);\" target=\"_blank\">CU Alumni Credit Card webpage</a>.</li>\n",
    "\t<br>\n",
    "\t<li style=\"z-index: 170;\"><a name=\"03\" style=\"text-decoration: underline; color: rgb(0, 150, 201);\"></a>What benefits and services could CU alumni enjoy? Can alumni use campus facilities?<br>\n",
    "\tAs a CU graduate, you can enjoy to a lot of benefits and services. CU alumni are welcome to return to campus to use the following facilities: libraries, swimming pool, selected sports facilities and CU Staff Common Room Restaurant etc. Please visit <a href=\"campus-facilities-and-services\" style=\"color: rgb(0, 150, 201);\" target=\"_blank\">Alumni Benefits webpage</a> for details. Holders of the CU Alumni Credit Card can enjoy special discount plus up to 4 hours of free parking when using the facilities.</li>\n",
    "\t<br>\n",
    "\t<li style=\"z-index: 160;\"><a name=\"04\" style=\"text-decoration: underline; color: rgb(0, 150, 201);\"></a>May I use CU library service?<br>\n",
    "\tAll CUHK graduates are eligible to apply for the \"Alumni Library Card\" (Borrower's Card or Reader's Card) which allows them access to any library of the University Library System. They may also apply for the \"Digital Library Service for Alumni\". For application fee, procedure and details, please visit the <a href=\"http://www.lib.cuhk.edu.hk/en\" style=\"color: rgb(0, 150, 201);\" target=\"_blank\">Library webpage</a>. For application, please log on to the <a href=\"https://portal.cuhk.edu.hk/\" style=\"color: rgb(0, 150, 201);\" target=\"_blank\">MyCUHK</a> portal to apply.</li>\n",
    "\t<br>\n",
    "\t<li style=\"z-index: 150;\"><a name=\"05\" style=\"text-decoration: underline; color: rgb(0, 150, 201);\"></a>I have already completed all the required courses. Am I a \"graduate\" of the University? Can I apply for the alumni library services?<br>\n",
    "\tOnce the graduation status of CUHK students has been approved by the Senate of the University, the students are considered as graduates of the University and may apply for the alumni library services through <a href=\"https://portal.cuhk.edu.hk/\" style=\"color: rgb(0, 150, 201);\" target=\"_blank\">MyCUHK</a>. For undergraduates, normally, the graduation list of the year will be confirmed by the Senate in mid-March (for first term graduates) or mid-August (for second term graduates). For postgraduate students, the graduation list will be approved by the Senate in batches throughout the year. Students may check with the Registration and Examinations Section of the Registry the status if necessary (email: <a href=\"mailto:ugadmin@cuhk.edu.hk\" style=\"color: rgb(0, 150, 201);\">ugadmin@cuhk.edu.hk</a> ) OR check with the Graduate School Office (email: <a href=\"mailto:gradschool@cuhk.edu.hk\" style=\"color: rgb(0, 150, 201);\">gradschool@cuhk.edu.hk</a>).</li>\n",
    "\t<br>\n",
    "\t<li style=\"z-index: 140;\"><a name=\"06\" style=\"text-decoration: underline; color: rgb(0, 150, 201);\"></a>What are the alumni bodies which alumni can join?<br>\n",
    "\tAll degree graduates will automatically become members of the \"CUHK Convocation\". For the objectives and activities of the \"CUHK Convocation\", please visit the <a href=\"http://www.alumni.cuhk.edu.hk/convocation/eng/\" style=\"color: rgb(0, 150, 201);\" target=\"_blank\">CUHK Convocation webpage</a>.<br>\n",
    "\tTo enhance the connection among alumni of different Colleges and Schools, the Federation of Alumni Associations of CUHK (FAA) is set up consisting of the Alumni Associations of Chung Chi College, New Asia College, United College, Shaw College and School of Education, etc. as basic members and the Alumni Association of Part-time Degree Programme as an affiliate member. Members of any of the above Alumni Associations are also the members of FAA. Please visit <a href=\"http://www.alumni.cuhk.edu.hk/faa/\" style=\"color: rgb(0, 150, 201);\" target=\"_blank\">FAA webpage</a> for further details.<br>\n",
    "\tCurrently, there are over 100 CU alumni associations established in Hong Kong, China and other parts of the world. They are organized by college, major, profession or interest which together form a CUHK alumni network worldwide.<br>\n",
    "\tNew alumni are most welcome to join the alumni associations of their interest and take part in their activities. Through participation in these alumni bodies, you will not only be able to maintain your linkage with fellow classmates and alumni, but also expand your personal network which will in turn benefit your further development in life. Please visit <a href=\"associations\" style=\"color: rgb(0, 150, 201);\" target=\"_blank\">Alumni Organization webpage</a> for details.</li>\n",
    "\t<br>\n",
    "\t<li style=\"z-index: 130;\"><a name=\"07\" style=\"text-decoration: underline; color: rgb(0, 150, 201);\"></a>I am going to live / work / study abroad, how can I know if there is any alumni association with which I can get in touch?<br>\n",
    "\tFor names and contact officers of all CU alumni associations around the world, please visit <a href=\"associations/region/offshore\" style=\"color: rgb(0, 150, 201);\" target=\"_blank\">Alumni Organization webpage</a>.</li>\n",
    "\t<br>\n",
    "\t<li style=\"z-index: 120;\"><a name=\"08\" style=\"text-decoration: underline; color: rgb(0, 150, 201);\"></a>How to get a free lifetime Alumni Email Forwarding Address?<br>\n",
    "\tPlease visit <a href=\"https://portal.cuhk.edu.hk/\" style=\"color: rgb(0, 150, 201);\" target=\"_blank\">MyCUHK</a> for details and sign up for the free and convenient service.</li>\n",
    "\t<br>\n",
    "\t<li style=\"z-index: 110;\"><a name=\"09\" style=\"text-decoration: underline; color: rgb(0, 150, 201);\"></a>Why should I inform Alumni Affairs Office of my email and mailing address?<br>\n",
    "\tNo matter where you are, with your email and mailing address, Alumni Affairs Office can send you the latest copy of \"CU Alumni\" magazine and alumni e-newsletter \"Alumni Matters\", and keep you informed of the latest news and activities of all CU alumni associations and the University.<br>\n",
    "\tDo let us know by updating your personal information through <a href=\"https://portal.cuhk.edu.hk/\" style=\"color: rgb(0, 150, 201);\" target=\"_blank\">MyCUHK</a>.</li>\n",
    "\t<br>\n",
    "\t<li style=\"z-index: 100;\"><a name=\"10\" style=\"text-decoration: underline; color: rgb(0, 150, 201);\"></a>How can I get a transcript?<br>\n",
    "\tFor graduates of undergraduate programme, please visit:<br>\n",
    "\t<a href=\"http://www.res.cuhk.edu.hk/en-gb/applications/graduates-of-full-time-undergraduate-programmes\" style=\"color: rgb(0, 150, 201);\" target=\"_blank\">http://www.res.cuhk.edu.hk/en-gb/applications/graduates-of-full-time-undergraduate-programmes</a><br>\n",
    "\tFor graduates of postgraduate programme, please visit:<br>\n",
    "\t<a href=\"https://www.gs.cuhk.edu.hk/page/RequestOfficialDocuments\" style=\"color: rgb(0, 150, 201);\" target=\"_blank\">https://www.gs.cuhk.edu.hk/page/RequestOfficialDocuments</a></li>\n",
    "\t<br>\n",
    "\t<li style=\"z-index: 90;\"><a name=\"11\" style=\"text-decoration: underline; color: rgb(0, 150, 201);\"></a>How can I share my news with alumni?<br>\n",
    "\tYou are welcome to contribute news to \"CU Alumni\" magazine.</li>\n",
    "\t<br>\n",
    "\t<li style=\"z-index: 80;\"><a name=\"12\" style=\"text-decoration: underline; color: rgb(0, 150, 201);\"></a>How can I make a gift to CU?<br>\n",
    "\tThank you for your consideration of making a gift to your alma mater. Alumni may make your donation <a href=\"https://cloud.itsc.cuhk.edu.hk/forms/forms/35.aspx\" style=\"color: rgb(0, 150, 201);\" target=\"_blank\">online</a> or complete and return the <a href=\"http://alumni.cuhk.edu.hk/assets/media/donation.pdf\" style=\"color: rgb(0, 150, 201);\" target=\"_blank\">donation form</a> to show that you CARE!</li>\n",
    "\t<br>\n",
    "\t<li style=\"z-index: 70;\"><a name=\"13\" style=\"text-decoration: underline; color: rgb(0, 150, 201);\"></a>What is <a href=\"https://portal.cuhk.edu.hk/\" style=\"color: rgb(0, 150, 201);\" target=\"_blank\">MyCUHK</a>? What kind of services does it provide?<br>\n",
    "\t<a href=\"https://portal.cuhk.edu.hk/\" style=\"color: rgb(0, 150, 201);\" target=\"_blank\">MyCUHK</a> is an online platform for alumni, staff and students to access campus news and a wide range of online services include updating personal contact details, submitting online service applications and registering for University's alumni events.<br>\n",
    "\tPlease visit the <a href=\"https://portal.cuhk.edu.hk/\" style=\"color: rgb(0, 150, 201);\" target=\"_blank\">MyCUHK</a> for details and log in.</li>\n",
    "\t<br>\n",
    "\t<li style=\"z-index: 60;\"><a name=\"14\" style=\"text-decoration: underline; color: rgb(0, 150, 201);\"></a>What are required to login <a href=\"https://portal.cuhk.edu.hk/\" style=\"color: rgb(0, 150, 201);\" target=\"_blank\">MyCUHK</a>?<br>\n",
    "\tAlumni are required to login <a href=\"https://portal.cuhk.edu.hk/\" style=\"color: rgb(0, 150, 201);\" target=\"_blank\">MyCUHK</a> with their Alumni ID and the <a href=\"https://portal.cuhk.edu.hk/\" style=\"color: rgb(0, 150, 201);\" target=\"_blank\">MyCUHK</a> password.</li>\n",
    "\t<br>\n",
    "\t<li style=\"z-index: 50;\"><a name=\"15\" style=\"text-decoration: underline; color: rgb(0, 150, 201);\"></a>What is Alumni ID?<br>\n",
    "\tBeginning from October 2010, every alumnus of the University has been assigned with a 10-digit Alumni ID which is an important identification number and will be widely used in online systems of the University requiring authentication, including the <a href=\"https://portal.cuhk.edu.hk/\" style=\"color: rgb(0, 150, 201);\" target=\"_blank\">MyCUHK</a> online platform. When a CUHK graduate pursues another degree at the University, his/her Alumni ID will also serve as his/her Student ID. Alumni who graduated after October 2010 should use their 10-digit student ID as their Alumni ID.</li>\n",
    "\t<br>\n",
    "\t<li style=\"z-index: 40;\"><a name=\"16\" style=\"text-decoration: underline; color: rgb(0, 150, 201);\"></a>How can I get my Alumni ID?<br>\n",
    "\tYou can acquire the number from the <a href=\"https://portal.cuhk.edu.hk/\" style=\"color: rgb(0, 150, 201);\" target=\"_blank\">MyCUHK</a> website (please <a href=\"http://www.alumni.cuhk.edu.hk/MyCUHK/InquireAlumniID.html\" style=\"color: rgb(0, 150, 201);\" target=\"_blank\">visit here</a> for more details).</li>\n",
    "\t<br>\n",
    "\t<li style=\"z-index: 30;\"><a name=\"17\" style=\"text-decoration: underline; color: rgb(0, 150, 201);\"></a>How do I retrieve my Alumni ID if I have lost it?<br>\n",
    "\tPlease visit <a href=\"https://portal.cuhk.edu.hk/\" style=\"color: rgb(0, 150, 201);\" target=\"_blank\">MyCUHK</a> and input your HKID number and graduation information in the front page of the MyCUHK platform to acquire your lost/ forgotten Alumni ID (please <a href=\"http://www.alumni.cuhk.edu.hk/MyCUHK/InquireAlumniID.html\" style=\"color: rgb(0, 150, 201);\" target=\"_blank\">visit here</a> for more details). In case your HKID information is not available for the request to be processed automatically, please contact the Alumni Affairs Office ( <a href=\"mailto:mycuhk_alumni@cuhk.edu.hk\" style=\"color: rgb(0, 150, 201);\">mycuhk_alumni@cuhk.edu.hk</a>) to provide your graduation certificate and identification document for processing the request.</li>\n",
    "\t<br>\n",
    "\t<li style=\"z-index: 20;\"><a name=\"18\" style=\"text-decoration: underline; color: rgb(0, 150, 201);\"></a>Can I change my Alumni ID?<br>\n",
    "\tThe Alumni ID is a life-long identification number assigned to individual alumni and cannot be changed.</li>\n",
    "\t<br>\n",
    "\t<li style=\"z-index: 10;\"><a name=\"19\" style=\"text-decoration: underline; color: rgb(0, 150, 201);\"></a>What is MyCUHK Password?<br>\n",
    "\tTo login MyCUHK, you are required to input your Alumni ID as well as the <a href=\"https://portal.cuhk.edu.hk/\" style=\"color: rgb(0, 150, 201);\" target=\"_blank\">MyCUHK</a> Password. Alumni have to initialize their account by setting up his/her <a href=\"https://portal.cuhk.edu.hk/\" style=\"color: rgb(0, 150, 201);\" target=\"_blank\">MyCUHK</a> Password at the front page of <a href=\"https://portal.cuhk.edu.hk/\" style=\"color: rgb(0, 150, 201);\" target=\"_blank\">MyCUHK</a> (please <a href=\"http://www.alumni.cuhk.edu.hk/MyCUHK/ResetPassword.html\" style=\"color: rgb(0, 150, 201);\" target=\"_blank\">visit here</a> for more details). Alumni may also change his/her <a href=\"https://portal.cuhk.edu.hk/\" style=\"color: rgb(0, 150, 201);\" target=\"_blank\">MyCUHK</a> password at the MyCUHK platform.</li>\n",
    "\t<br>\n",
    "\t<li style=\"z-index: 0;\"><a name=\"20\" style=\"text-decoration: underline; color: rgb(0, 150, 201);\"></a>What if I have forgotten my MyCUHK password?<br>\n",
    "\tYou can receive a password reset email to change your password after inputting the required graduation information and valid email address at the Alumni Account Management page of <a href=\"https://portal.cuhk.edu.hk/\" style=\"color: rgb(0, 150, 201);\" target=\"_blank\">MyCUHK</a> (please <a href=\"http://www.alumni.cuhk.edu.hk/MyCUHK/ResetPassword.html\" style=\"color: rgb(0, 150, 201);\" target=\"_blank\">visit here</a> for more details).</li>\n",
    "\t<br>\n",
    "\t<li style=\"z-index: -10;\"><a name=\"21\" style=\"text-decoration: underline; color: rgb(0, 150, 201);\"></a>How to change my <a href=\"https://portal.cuhk.edu.hk/\" style=\"color: rgb(0, 150, 201);\" target=\"_blank\">MyCUHK</a> password?<br>\n",
    "\tYou can login <a href=\"https://portal.cuhk.edu.hk/\" style=\"color: rgb(0, 150, 201);\" target=\"_blank\">MyCUHK</a> and change the password online.</li>\n",
    "\t<br>\n",
    "\t<li style=\"z-index: -20;\"><a name=\"22\" style=\"text-decoration: underline; color: rgb(0, 150, 201);\"></a>I am a graduate of the University and also a current student. Do I need to set up a new <a href=\"https://portal.cuhk.edu.hk/\" style=\"color: rgb(0, 150, 201);\" target=\"_blank\">MyCUHK</a> password to login <a href=\"https://portal.cuhk.edu.hk/\" style=\"color: rgb(0, 150, 201);\" target=\"_blank\">MyCUHK</a>? Or should I use my CWEM password to login?<br>\n",
    "\tStudents, whether or not they are alumni, should use the CWEM password to login. You may decide whether or not to keep your CWEM as your <a href=\"https://portal.cuhk.edu.hk/\" style=\"color: rgb(0, 150, 201);\" target=\"_blank\">MyCUHK</a> Password after you graduate.</li>\n",
    "\t<br>\n",
    "\t<li style=\"z-index: -40;\"><a name=\"23\" style=\"text-decoration: underline; color: rgb(0, 150, 201);\"></a>Can I view /update my personal information in MyPage?<br>\n",
    "\tThe personal information that can be viewed/ updated includes names, addresses, phone &amp; fax numbers, email addresses and work experience.</li>\n",
    "\t<br>\n",
    "\t<li style=\"z-index: -60;\"><a name=\"24\" style=\"text-decoration: underline; color: rgb(0, 150, 201);\"></a>What is the browser requirement for<a href=\"https://portal.cuhk.edu.hk/\" style=\"color: rgb(0, 150, 201);\" target=\"_blank\">MyCUHK</a>?<br>\n",
    "\t<a href=\"https://portal.cuhk.edu.hk/\" style=\"color: rgb(0, 150, 201);\" target=\"_blank\">MyCUHK</a> can run on most commonly used browsers such as Microsoft Internet Explorer, Mozilla Firefox and Apple Safari, with Microsoft Internet Explorer 6.x/7/x being the preferred platform with full support.</li>\n",
    "\t<br>\n",
    "\t<li style=\"z-index: -70;\"><a name=\"25\" style=\"text-decoration: underline; color: rgb(0, 150, 201);\"></a>What is the Root security certificate requirement for the new <a href=\"https://portal.cuhk.edu.hk/\" style=\"color: rgb(0, 150, 201);\" target=\"_blank\">MyCUHK</a>?<br>\n",
    "\tThe new <a href=\"https://portal.cuhk.edu.hk/\" style=\"color: rgb(0, 150, 201);\" target=\"_blank\">MyCUHK</a> website uses root security issued by the Hong Kong Post to deliver secured website content. This root certificate is automatically trusted by Microsoft Internet Explorer 6 or higher. If you use other browsers, you are advised to install Hong Kong Post Root Certificate in order to operate smoothly without the security certificate warnings.</li>\n",
    "</ol>'''"
   ]
  },
  {
   "cell_type": "code",
   "execution_count": 31,
   "metadata": {},
   "outputs": [
    {
     "data": {
      "text/plain": [
       "[<li style=\"z-index: 190;\"><a name=\"01\" style=\"text-decoration: underline; color: rgb(0, 150, 201);\"></a>When would CU graduates become CU alumni?<br/>\n",
       " \tOnce their graduate status is confirmed by the University Senate, graduates will become CU alumni.</li>,\n",
       " <li style=\"z-index: 180;\"><a name=\"02\" style=\"text-decoration: underline; color: rgb(0, 150, 201);\"></a>Is there a CU Alumni Card?<br/>\n",
       " \tThere is no CU Alumni Card per se, but alumni can apply for the \"CU Alumni Credit Card\" to signify their special status as CU alumni. Holders of the \"CU Alumni Credit Card\" can enjoy special discount plus up to 4 hours of free parking when using campus facilities. For details and application, please visit <a href=\"cu-alumni-credit-card\" style=\"color: rgb(0, 150, 201);\" target=\"_blank\">CU Alumni Credit Card webpage</a>.</li>,\n",
       " <li style=\"z-index: 170;\"><a name=\"03\" style=\"text-decoration: underline; color: rgb(0, 150, 201);\"></a>What benefits and services could CU alumni enjoy? Can alumni use campus facilities?<br/>\n",
       " \tAs a CU graduate, you can enjoy to a lot of benefits and services. CU alumni are welcome to return to campus to use the following facilities: libraries, swimming pool, selected sports facilities and CU Staff Common Room Restaurant etc. Please visit <a href=\"campus-facilities-and-services\" style=\"color: rgb(0, 150, 201);\" target=\"_blank\">Alumni Benefits webpage</a> for details. Holders of the CU Alumni Credit Card can enjoy special discount plus up to 4 hours of free parking when using the facilities.</li>,\n",
       " <li style=\"z-index: 160;\"><a name=\"04\" style=\"text-decoration: underline; color: rgb(0, 150, 201);\"></a>May I use CU library service?<br/>\n",
       " \tAll CUHK graduates are eligible to apply for the \"Alumni Library Card\" (Borrower's Card or Reader's Card) which allows them access to any library of the University Library System. They may also apply for the \"Digital Library Service for Alumni\". For application fee, procedure and details, please visit the <a href=\"http://www.lib.cuhk.edu.hk/en\" style=\"color: rgb(0, 150, 201);\" target=\"_blank\">Library webpage</a>. For application, please log on to the <a href=\"https://portal.cuhk.edu.hk/\" style=\"color: rgb(0, 150, 201);\" target=\"_blank\">MyCUHK</a> portal to apply.</li>,\n",
       " <li style=\"z-index: 150;\"><a name=\"05\" style=\"text-decoration: underline; color: rgb(0, 150, 201);\"></a>I have already completed all the required courses. Am I a \"graduate\" of the University? Can I apply for the alumni library services?<br/>\n",
       " \tOnce the graduation status of CUHK students has been approved by the Senate of the University, the students are considered as graduates of the University and may apply for the alumni library services through <a href=\"https://portal.cuhk.edu.hk/\" style=\"color: rgb(0, 150, 201);\" target=\"_blank\">MyCUHK</a>. For undergraduates, normally, the graduation list of the year will be confirmed by the Senate in mid-March (for first term graduates) or mid-August (for second term graduates). For postgraduate students, the graduation list will be approved by the Senate in batches throughout the year. Students may check with the Registration and Examinations Section of the Registry the status if necessary (email: <a href=\"mailto:ugadmin@cuhk.edu.hk\" style=\"color: rgb(0, 150, 201);\">ugadmin@cuhk.edu.hk</a> ) OR check with the Graduate School Office (email: <a href=\"mailto:gradschool@cuhk.edu.hk\" style=\"color: rgb(0, 150, 201);\">gradschool@cuhk.edu.hk</a>).</li>,\n",
       " <li style=\"z-index: 140;\"><a name=\"06\" style=\"text-decoration: underline; color: rgb(0, 150, 201);\"></a>What are the alumni bodies which alumni can join?<br/>\n",
       " \tAll degree graduates will automatically become members of the \"CUHK Convocation\". For the objectives and activities of the \"CUHK Convocation\", please visit the <a href=\"http://www.alumni.cuhk.edu.hk/convocation/eng/\" style=\"color: rgb(0, 150, 201);\" target=\"_blank\">CUHK Convocation webpage</a>.<br/>\n",
       " \tTo enhance the connection among alumni of different Colleges and Schools, the Federation of Alumni Associations of CUHK (FAA) is set up consisting of the Alumni Associations of Chung Chi College, New Asia College, United College, Shaw College and School of Education, etc. as basic members and the Alumni Association of Part-time Degree Programme as an affiliate member. Members of any of the above Alumni Associations are also the members of FAA. Please visit <a href=\"http://www.alumni.cuhk.edu.hk/faa/\" style=\"color: rgb(0, 150, 201);\" target=\"_blank\">FAA webpage</a> for further details.<br/>\n",
       " \tCurrently, there are over 100 CU alumni associations established in Hong Kong, China and other parts of the world. They are organized by college, major, profession or interest which together form a CUHK alumni network worldwide.<br/>\n",
       " \tNew alumni are most welcome to join the alumni associations of their interest and take part in their activities. Through participation in these alumni bodies, you will not only be able to maintain your linkage with fellow classmates and alumni, but also expand your personal network which will in turn benefit your further development in life. Please visit <a href=\"associations\" style=\"color: rgb(0, 150, 201);\" target=\"_blank\">Alumni Organization webpage</a> for details.</li>,\n",
       " <li style=\"z-index: 130;\"><a name=\"07\" style=\"text-decoration: underline; color: rgb(0, 150, 201);\"></a>I am going to live / work / study abroad, how can I know if there is any alumni association with which I can get in touch?<br/>\n",
       " \tFor names and contact officers of all CU alumni associations around the world, please visit <a href=\"associations/region/offshore\" style=\"color: rgb(0, 150, 201);\" target=\"_blank\">Alumni Organization webpage</a>.</li>,\n",
       " <li style=\"z-index: 120;\"><a name=\"08\" style=\"text-decoration: underline; color: rgb(0, 150, 201);\"></a>How to get a free lifetime Alumni Email Forwarding Address?<br/>\n",
       " \tPlease visit <a href=\"https://portal.cuhk.edu.hk/\" style=\"color: rgb(0, 150, 201);\" target=\"_blank\">MyCUHK</a> for details and sign up for the free and convenient service.</li>,\n",
       " <li style=\"z-index: 110;\"><a name=\"09\" style=\"text-decoration: underline; color: rgb(0, 150, 201);\"></a>Why should I inform Alumni Affairs Office of my email and mailing address?<br/>\n",
       " \tNo matter where you are, with your email and mailing address, Alumni Affairs Office can send you the latest copy of \"CU Alumni\" magazine and alumni e-newsletter \"Alumni Matters\", and keep you informed of the latest news and activities of all CU alumni associations and the University.<br/>\n",
       " \tDo let us know by updating your personal information through <a href=\"https://portal.cuhk.edu.hk/\" style=\"color: rgb(0, 150, 201);\" target=\"_blank\">MyCUHK</a>.</li>,\n",
       " <li style=\"z-index: 100;\"><a name=\"10\" style=\"text-decoration: underline; color: rgb(0, 150, 201);\"></a>How can I get a transcript?<br/>\n",
       " \tFor graduates of undergraduate programme, please visit:<br/>\n",
       " <a href=\"http://www.res.cuhk.edu.hk/en-gb/applications/graduates-of-full-time-undergraduate-programmes\" style=\"color: rgb(0, 150, 201);\" target=\"_blank\">http://www.res.cuhk.edu.hk/en-gb/applications/graduates-of-full-time-undergraduate-programmes</a><br/>\n",
       " \tFor graduates of postgraduate programme, please visit:<br/>\n",
       " <a href=\"https://www.gs.cuhk.edu.hk/page/RequestOfficialDocuments\" style=\"color: rgb(0, 150, 201);\" target=\"_blank\">https://www.gs.cuhk.edu.hk/page/RequestOfficialDocuments</a></li>,\n",
       " <li style=\"z-index: 90;\"><a name=\"11\" style=\"text-decoration: underline; color: rgb(0, 150, 201);\"></a>How can I share my news with alumni?<br/>\n",
       " \tYou are welcome to contribute news to \"CU Alumni\" magazine.</li>,\n",
       " <li style=\"z-index: 80;\"><a name=\"12\" style=\"text-decoration: underline; color: rgb(0, 150, 201);\"></a>How can I make a gift to CU?<br/>\n",
       " \tThank you for your consideration of making a gift to your alma mater. Alumni may make your donation <a href=\"https://cloud.itsc.cuhk.edu.hk/forms/forms/35.aspx\" style=\"color: rgb(0, 150, 201);\" target=\"_blank\">online</a> or complete and return the <a href=\"http://alumni.cuhk.edu.hk/assets/media/donation.pdf\" style=\"color: rgb(0, 150, 201);\" target=\"_blank\">donation form</a> to show that you CARE!</li>,\n",
       " <li style=\"z-index: 70;\"><a name=\"13\" style=\"text-decoration: underline; color: rgb(0, 150, 201);\"></a>What is <a href=\"https://portal.cuhk.edu.hk/\" style=\"color: rgb(0, 150, 201);\" target=\"_blank\">MyCUHK</a>? What kind of services does it provide?<br/>\n",
       " <a href=\"https://portal.cuhk.edu.hk/\" style=\"color: rgb(0, 150, 201);\" target=\"_blank\">MyCUHK</a> is an online platform for alumni, staff and students to access campus news and a wide range of online services include updating personal contact details, submitting online service applications and registering for University's alumni events.<br/>\n",
       " \tPlease visit the <a href=\"https://portal.cuhk.edu.hk/\" style=\"color: rgb(0, 150, 201);\" target=\"_blank\">MyCUHK</a> for details and log in.</li>,\n",
       " <li style=\"z-index: 60;\"><a name=\"14\" style=\"text-decoration: underline; color: rgb(0, 150, 201);\"></a>What are required to login <a href=\"https://portal.cuhk.edu.hk/\" style=\"color: rgb(0, 150, 201);\" target=\"_blank\">MyCUHK</a>?<br/>\n",
       " \tAlumni are required to login <a href=\"https://portal.cuhk.edu.hk/\" style=\"color: rgb(0, 150, 201);\" target=\"_blank\">MyCUHK</a> with their Alumni ID and the <a href=\"https://portal.cuhk.edu.hk/\" style=\"color: rgb(0, 150, 201);\" target=\"_blank\">MyCUHK</a> password.</li>,\n",
       " <li style=\"z-index: 50;\"><a name=\"15\" style=\"text-decoration: underline; color: rgb(0, 150, 201);\"></a>What is Alumni ID?<br/>\n",
       " \tBeginning from October 2010, every alumnus of the University has been assigned with a 10-digit Alumni ID which is an important identification number and will be widely used in online systems of the University requiring authentication, including the <a href=\"https://portal.cuhk.edu.hk/\" style=\"color: rgb(0, 150, 201);\" target=\"_blank\">MyCUHK</a> online platform. When a CUHK graduate pursues another degree at the University, his/her Alumni ID will also serve as his/her Student ID. Alumni who graduated after October 2010 should use their 10-digit student ID as their Alumni ID.</li>,\n",
       " <li style=\"z-index: 40;\"><a name=\"16\" style=\"text-decoration: underline; color: rgb(0, 150, 201);\"></a>How can I get my Alumni ID?<br/>\n",
       " \tYou can acquire the number from the <a href=\"https://portal.cuhk.edu.hk/\" style=\"color: rgb(0, 150, 201);\" target=\"_blank\">MyCUHK</a> website (please <a href=\"http://www.alumni.cuhk.edu.hk/MyCUHK/InquireAlumniID.html\" style=\"color: rgb(0, 150, 201);\" target=\"_blank\">visit here</a> for more details).</li>,\n",
       " <li style=\"z-index: 30;\"><a name=\"17\" style=\"text-decoration: underline; color: rgb(0, 150, 201);\"></a>How do I retrieve my Alumni ID if I have lost it?<br/>\n",
       " \tPlease visit <a href=\"https://portal.cuhk.edu.hk/\" style=\"color: rgb(0, 150, 201);\" target=\"_blank\">MyCUHK</a> and input your HKID number and graduation information in the front page of the MyCUHK platform to acquire your lost/ forgotten Alumni ID (please <a href=\"http://www.alumni.cuhk.edu.hk/MyCUHK/InquireAlumniID.html\" style=\"color: rgb(0, 150, 201);\" target=\"_blank\">visit here</a> for more details). In case your HKID information is not available for the request to be processed automatically, please contact the Alumni Affairs Office ( <a href=\"mailto:mycuhk_alumni@cuhk.edu.hk\" style=\"color: rgb(0, 150, 201);\">mycuhk_alumni@cuhk.edu.hk</a>) to provide your graduation certificate and identification document for processing the request.</li>,\n",
       " <li style=\"z-index: 20;\"><a name=\"18\" style=\"text-decoration: underline; color: rgb(0, 150, 201);\"></a>Can I change my Alumni ID?<br/>\n",
       " \tThe Alumni ID is a life-long identification number assigned to individual alumni and cannot be changed.</li>,\n",
       " <li style=\"z-index: 10;\"><a name=\"19\" style=\"text-decoration: underline; color: rgb(0, 150, 201);\"></a>What is MyCUHK Password?<br/>\n",
       " \tTo login MyCUHK, you are required to input your Alumni ID as well as the <a href=\"https://portal.cuhk.edu.hk/\" style=\"color: rgb(0, 150, 201);\" target=\"_blank\">MyCUHK</a> Password. Alumni have to initialize their account by setting up his/her <a href=\"https://portal.cuhk.edu.hk/\" style=\"color: rgb(0, 150, 201);\" target=\"_blank\">MyCUHK</a> Password at the front page of <a href=\"https://portal.cuhk.edu.hk/\" style=\"color: rgb(0, 150, 201);\" target=\"_blank\">MyCUHK</a> (please <a href=\"http://www.alumni.cuhk.edu.hk/MyCUHK/ResetPassword.html\" style=\"color: rgb(0, 150, 201);\" target=\"_blank\">visit here</a> for more details). Alumni may also change his/her <a href=\"https://portal.cuhk.edu.hk/\" style=\"color: rgb(0, 150, 201);\" target=\"_blank\">MyCUHK</a> password at the MyCUHK platform.</li>,\n",
       " <li style=\"z-index: 0;\"><a name=\"20\" style=\"text-decoration: underline; color: rgb(0, 150, 201);\"></a>What if I have forgotten my MyCUHK password?<br/>\n",
       " \tYou can receive a password reset email to change your password after inputting the required graduation information and valid email address at the Alumni Account Management page of <a href=\"https://portal.cuhk.edu.hk/\" style=\"color: rgb(0, 150, 201);\" target=\"_blank\">MyCUHK</a> (please <a href=\"http://www.alumni.cuhk.edu.hk/MyCUHK/ResetPassword.html\" style=\"color: rgb(0, 150, 201);\" target=\"_blank\">visit here</a> for more details).</li>,\n",
       " <li style=\"z-index: -10;\"><a name=\"21\" style=\"text-decoration: underline; color: rgb(0, 150, 201);\"></a>How to change my <a href=\"https://portal.cuhk.edu.hk/\" style=\"color: rgb(0, 150, 201);\" target=\"_blank\">MyCUHK</a> password?<br/>\n",
       " \tYou can login <a href=\"https://portal.cuhk.edu.hk/\" style=\"color: rgb(0, 150, 201);\" target=\"_blank\">MyCUHK</a> and change the password online.</li>,\n",
       " <li style=\"z-index: -20;\"><a name=\"22\" style=\"text-decoration: underline; color: rgb(0, 150, 201);\"></a>I am a graduate of the University and also a current student. Do I need to set up a new <a href=\"https://portal.cuhk.edu.hk/\" style=\"color: rgb(0, 150, 201);\" target=\"_blank\">MyCUHK</a> password to login <a href=\"https://portal.cuhk.edu.hk/\" style=\"color: rgb(0, 150, 201);\" target=\"_blank\">MyCUHK</a>? Or should I use my CWEM password to login?<br/>\n",
       " \tStudents, whether or not they are alumni, should use the CWEM password to login. You may decide whether or not to keep your CWEM as your <a href=\"https://portal.cuhk.edu.hk/\" style=\"color: rgb(0, 150, 201);\" target=\"_blank\">MyCUHK</a> Password after you graduate.</li>,\n",
       " <li style=\"z-index: -40;\"><a name=\"23\" style=\"text-decoration: underline; color: rgb(0, 150, 201);\"></a>Can I view /update my personal information in MyPage?<br/>\n",
       " \tThe personal information that can be viewed/ updated includes names, addresses, phone &amp; fax numbers, email addresses and work experience.</li>,\n",
       " <li style=\"z-index: -60;\"><a name=\"24\" style=\"text-decoration: underline; color: rgb(0, 150, 201);\"></a>What is the browser requirement for<a href=\"https://portal.cuhk.edu.hk/\" style=\"color: rgb(0, 150, 201);\" target=\"_blank\">MyCUHK</a>?<br/>\n",
       " <a href=\"https://portal.cuhk.edu.hk/\" style=\"color: rgb(0, 150, 201);\" target=\"_blank\">MyCUHK</a> can run on most commonly used browsers such as Microsoft Internet Explorer, Mozilla Firefox and Apple Safari, with Microsoft Internet Explorer 6.x/7/x being the preferred platform with full support.</li>,\n",
       " <li style=\"z-index: -70;\"><a name=\"25\" style=\"text-decoration: underline; color: rgb(0, 150, 201);\"></a>What is the Root security certificate requirement for the new <a href=\"https://portal.cuhk.edu.hk/\" style=\"color: rgb(0, 150, 201);\" target=\"_blank\">MyCUHK</a>?<br/>\n",
       " \tThe new <a href=\"https://portal.cuhk.edu.hk/\" style=\"color: rgb(0, 150, 201);\" target=\"_blank\">MyCUHK</a> website uses root security issued by the Hong Kong Post to deliver secured website content. This root certificate is automatically trusted by Microsoft Internet Explorer 6 or higher. If you use other browsers, you are advised to install Hong Kong Post Root Certificate in order to operate smoothly without the security certificate warnings.</li>]"
      ]
     },
     "execution_count": 31,
     "metadata": {},
     "output_type": "execute_result"
    }
   ],
   "source": [
    "soup = bs4(html)\n",
    "soup.select('li')"
   ]
  },
  {
   "cell_type": "code",
   "execution_count": 34,
   "metadata": {},
   "outputs": [
    {
     "data": {
      "text/plain": [
       "['When would CU graduates become CU alumni?',\n",
       " '\\n\\tOnce their graduate status is confirmed by the University Senate, graduates will become CU alumni.']"
      ]
     },
     "execution_count": 34,
     "metadata": {},
     "output_type": "execute_result"
    }
   ],
   "source": [
    "for li in soup.select('li'):\n",
    "    a = li.select('[name]')   # not find('a') coz there are other links\n",
    "    if len(a) > 0:\n",
    "        a[0].extract()  # remove a\n",
    "    html = li.decode_contents()  # innerHTML\n",
    "    break\n",
    "html.split('<br/>')"
   ]
  },
  {
   "cell_type": "code",
   "execution_count": 33,
   "metadata": {},
   "outputs": [],
   "source": [
    "a"
   ]
  },
  {
   "cell_type": "code",
   "execution_count": 35,
   "metadata": {
    "scrolled": true
   },
   "outputs": [
    {
     "name": "stdout",
     "output_type": "stream",
     "text": [
      "('When would CU graduates become CU alumni?', 'Once their graduate status is confirmed by the University Senate, graduates will become CU alumni.')\n",
      "('Is there a CU Alumni Card?', 'There is no CU Alumni Card per se, but alumni can apply for the \"CU Alumni Credit Card\" to signify their special status as CU alumni. Holders of the \"CU Alumni Credit Card\" can enjoy special discount plus up to 4 hours of free parking when using campus facilities. For details and application, please visit <a href=\"cu-alumni-credit-card\" style=\"color: rgb(0, 150, 201);\" target=\"_blank\">CU Alumni Credit Card webpage</a>.')\n",
      "('What benefits and services could CU alumni enjoy? Can alumni use campus facilities?', 'As a CU graduate, you can enjoy to a lot of benefits and services. CU alumni are welcome to return to campus to use the following facilities: libraries, swimming pool, selected sports facilities and CU Staff Common Room Restaurant etc. Please visit <a href=\"campus-facilities-and-services\" style=\"color: rgb(0, 150, 201);\" target=\"_blank\">Alumni Benefits webpage</a> for details. Holders of the CU Alumni Credit Card can enjoy special discount plus up to 4 hours of free parking when using the facilities.')\n",
      "('May I use CU library service?', 'All CUHK graduates are eligible to apply for the \"Alumni Library Card\" (Borrower\\'s Card or Reader\\'s Card) which allows them access to any library of the University Library System. They may also apply for the \"Digital Library Service for Alumni\". For application fee, procedure and details, please visit the <a href=\"http://www.lib.cuhk.edu.hk/en\" style=\"color: rgb(0, 150, 201);\" target=\"_blank\">Library webpage</a>. For application, please log on to the <a href=\"https://portal.cuhk.edu.hk/\" style=\"color: rgb(0, 150, 201);\" target=\"_blank\">MyCUHK</a> portal to apply.')\n",
      "('I have already completed all the required courses. Am I a \"graduate\" of the University? Can I apply for the alumni library services?', 'Once the graduation status of CUHK students has been approved by the Senate of the University, the students are considered as graduates of the University and may apply for the alumni library services through <a href=\"https://portal.cuhk.edu.hk/\" style=\"color: rgb(0, 150, 201);\" target=\"_blank\">MyCUHK</a>. For undergraduates, normally, the graduation list of the year will be confirmed by the Senate in mid-March (for first term graduates) or mid-August (for second term graduates). For postgraduate students, the graduation list will be approved by the Senate in batches throughout the year. Students may check with the Registration and Examinations Section of the Registry the status if necessary (email: <a href=\"mailto:ugadmin@cuhk.edu.hk\" style=\"color: rgb(0, 150, 201);\">ugadmin@cuhk.edu.hk</a> ) OR check with the Graduate School Office (email: <a href=\"mailto:gradschool@cuhk.edu.hk\" style=\"color: rgb(0, 150, 201);\">gradschool@cuhk.edu.hk</a>).')\n",
      "('What are the alumni bodies which alumni can join?', 'All degree graduates will automatically become members of the \"CUHK Convocation\". For the objectives and activities of the \"CUHK Convocation\", please visit the <a href=\"http://www.alumni.cuhk.edu.hk/convocation/eng/\" style=\"color: rgb(0, 150, 201);\" target=\"_blank\">CUHK Convocation webpage</a>.<br/>\\n\\tTo enhance the connection among alumni of different Colleges and Schools, the Federation of Alumni Associations of CUHK (FAA) is set up consisting of the Alumni Associations of Chung Chi College, New Asia College, United College, Shaw College and School of Education, etc. as basic members and the Alumni Association of Part-time Degree Programme as an affiliate member. Members of any of the above Alumni Associations are also the members of FAA. Please visit <a href=\"http://www.alumni.cuhk.edu.hk/faa/\" style=\"color: rgb(0, 150, 201);\" target=\"_blank\">FAA webpage</a> for further details.<br/>\\n\\tCurrently, there are over 100 CU alumni associations established in Hong Kong, China and other parts of the world. They are organized by college, major, profession or interest which together form a CUHK alumni network worldwide.<br/>\\n\\tNew alumni are most welcome to join the alumni associations of their interest and take part in their activities. Through participation in these alumni bodies, you will not only be able to maintain your linkage with fellow classmates and alumni, but also expand your personal network which will in turn benefit your further development in life. Please visit <a href=\"associations\" style=\"color: rgb(0, 150, 201);\" target=\"_blank\">Alumni Organization webpage</a> for details.')\n",
      "('I am going to live / work / study abroad, how can I know if there is any alumni association with which I can get in touch?', 'For names and contact officers of all CU alumni associations around the world, please visit <a href=\"associations/region/offshore\" style=\"color: rgb(0, 150, 201);\" target=\"_blank\">Alumni Organization webpage</a>.')\n",
      "('How to get a free lifetime Alumni Email Forwarding Address?', 'Please visit <a href=\"https://portal.cuhk.edu.hk/\" style=\"color: rgb(0, 150, 201);\" target=\"_blank\">MyCUHK</a> for details and sign up for the free and convenient service.')\n",
      "('Why should I inform Alumni Affairs Office of my email and mailing address?', 'No matter where you are, with your email and mailing address, Alumni Affairs Office can send you the latest copy of \"CU Alumni\" magazine and alumni e-newsletter \"Alumni Matters\", and keep you informed of the latest news and activities of all CU alumni associations and the University.<br/>\\n\\tDo let us know by updating your personal information through <a href=\"https://portal.cuhk.edu.hk/\" style=\"color: rgb(0, 150, 201);\" target=\"_blank\">MyCUHK</a>.')\n",
      "('How can I get a transcript?', 'For graduates of undergraduate programme, please visit:<br/>\\n<a href=\"http://www.res.cuhk.edu.hk/en-gb/applications/graduates-of-full-time-undergraduate-programmes\" style=\"color: rgb(0, 150, 201);\" target=\"_blank\">http://www.res.cuhk.edu.hk/en-gb/applications/graduates-of-full-time-undergraduate-programmes</a><br/>\\n\\tFor graduates of postgraduate programme, please visit:<br/>\\n<a href=\"https://www.gs.cuhk.edu.hk/page/RequestOfficialDocuments\" style=\"color: rgb(0, 150, 201);\" target=\"_blank\">https://www.gs.cuhk.edu.hk/page/RequestOfficialDocuments</a>')\n",
      "('How can I share my news with alumni?', 'You are welcome to contribute news to \"CU Alumni\" magazine.')\n",
      "('How can I make a gift to CU?', 'Thank you for your consideration of making a gift to your alma mater. Alumni may make your donation <a href=\"https://cloud.itsc.cuhk.edu.hk/forms/forms/35.aspx\" style=\"color: rgb(0, 150, 201);\" target=\"_blank\">online</a> or complete and return the <a href=\"http://alumni.cuhk.edu.hk/assets/media/donation.pdf\" style=\"color: rgb(0, 150, 201);\" target=\"_blank\">donation form</a> to show that you CARE!')\n",
      "('What is <a href=\"https://portal.cuhk.edu.hk/\" style=\"color: rgb(0, 150, 201);\" target=\"_blank\">MyCUHK</a>? What kind of services does it provide?', '<a href=\"https://portal.cuhk.edu.hk/\" style=\"color: rgb(0, 150, 201);\" target=\"_blank\">MyCUHK</a> is an online platform for alumni, staff and students to access campus news and a wide range of online services include updating personal contact details, submitting online service applications and registering for University\\'s alumni events.<br/>\\n\\tPlease visit the <a href=\"https://portal.cuhk.edu.hk/\" style=\"color: rgb(0, 150, 201);\" target=\"_blank\">MyCUHK</a> for details and log in.')\n",
      "('What are required to login <a href=\"https://portal.cuhk.edu.hk/\" style=\"color: rgb(0, 150, 201);\" target=\"_blank\">MyCUHK</a>?', 'Alumni are required to login <a href=\"https://portal.cuhk.edu.hk/\" style=\"color: rgb(0, 150, 201);\" target=\"_blank\">MyCUHK</a> with their Alumni ID and the <a href=\"https://portal.cuhk.edu.hk/\" style=\"color: rgb(0, 150, 201);\" target=\"_blank\">MyCUHK</a> password.')\n",
      "('What is Alumni ID?', 'Beginning from October 2010, every alumnus of the University has been assigned with a 10-digit Alumni ID which is an important identification number and will be widely used in online systems of the University requiring authentication, including the <a href=\"https://portal.cuhk.edu.hk/\" style=\"color: rgb(0, 150, 201);\" target=\"_blank\">MyCUHK</a> online platform. When a CUHK graduate pursues another degree at the University, his/her Alumni ID will also serve as his/her Student ID. Alumni who graduated after October 2010 should use their 10-digit student ID as their Alumni ID.')\n",
      "('How can I get my Alumni ID?', 'You can acquire the number from the <a href=\"https://portal.cuhk.edu.hk/\" style=\"color: rgb(0, 150, 201);\" target=\"_blank\">MyCUHK</a> website (please <a href=\"http://www.alumni.cuhk.edu.hk/MyCUHK/InquireAlumniID.html\" style=\"color: rgb(0, 150, 201);\" target=\"_blank\">visit here</a> for more details).')\n",
      "('How do I retrieve my Alumni ID if I have lost it?', 'Please visit <a href=\"https://portal.cuhk.edu.hk/\" style=\"color: rgb(0, 150, 201);\" target=\"_blank\">MyCUHK</a> and input your HKID number and graduation information in the front page of the MyCUHK platform to acquire your lost/ forgotten Alumni ID (please <a href=\"http://www.alumni.cuhk.edu.hk/MyCUHK/InquireAlumniID.html\" style=\"color: rgb(0, 150, 201);\" target=\"_blank\">visit here</a> for more details). In case your HKID information is not available for the request to be processed automatically, please contact the Alumni Affairs Office ( <a href=\"mailto:mycuhk_alumni@cuhk.edu.hk\" style=\"color: rgb(0, 150, 201);\">mycuhk_alumni@cuhk.edu.hk</a>) to provide your graduation certificate and identification document for processing the request.')\n",
      "('Can I change my Alumni ID?', 'The Alumni ID is a life-long identification number assigned to individual alumni and cannot be changed.')\n",
      "('What is MyCUHK Password?', 'To login MyCUHK, you are required to input your Alumni ID as well as the <a href=\"https://portal.cuhk.edu.hk/\" style=\"color: rgb(0, 150, 201);\" target=\"_blank\">MyCUHK</a> Password. Alumni have to initialize their account by setting up his/her <a href=\"https://portal.cuhk.edu.hk/\" style=\"color: rgb(0, 150, 201);\" target=\"_blank\">MyCUHK</a> Password at the front page of <a href=\"https://portal.cuhk.edu.hk/\" style=\"color: rgb(0, 150, 201);\" target=\"_blank\">MyCUHK</a> (please <a href=\"http://www.alumni.cuhk.edu.hk/MyCUHK/ResetPassword.html\" style=\"color: rgb(0, 150, 201);\" target=\"_blank\">visit here</a> for more details). Alumni may also change his/her <a href=\"https://portal.cuhk.edu.hk/\" style=\"color: rgb(0, 150, 201);\" target=\"_blank\">MyCUHK</a> password at the MyCUHK platform.')\n",
      "('What if I have forgotten my MyCUHK password?', 'You can receive a password reset email to change your password after inputting the required graduation information and valid email address at the Alumni Account Management page of <a href=\"https://portal.cuhk.edu.hk/\" style=\"color: rgb(0, 150, 201);\" target=\"_blank\">MyCUHK</a> (please <a href=\"http://www.alumni.cuhk.edu.hk/MyCUHK/ResetPassword.html\" style=\"color: rgb(0, 150, 201);\" target=\"_blank\">visit here</a> for more details).')\n",
      "('How to change my <a href=\"https://portal.cuhk.edu.hk/\" style=\"color: rgb(0, 150, 201);\" target=\"_blank\">MyCUHK</a> password?', 'You can login <a href=\"https://portal.cuhk.edu.hk/\" style=\"color: rgb(0, 150, 201);\" target=\"_blank\">MyCUHK</a> and change the password online.')\n",
      "('I am a graduate of the University and also a current student. Do I need to set up a new <a href=\"https://portal.cuhk.edu.hk/\" style=\"color: rgb(0, 150, 201);\" target=\"_blank\">MyCUHK</a> password to login <a href=\"https://portal.cuhk.edu.hk/\" style=\"color: rgb(0, 150, 201);\" target=\"_blank\">MyCUHK</a>? Or should I use my CWEM password to login?', 'Students, whether or not they are alumni, should use the CWEM password to login. You may decide whether or not to keep your CWEM as your <a href=\"https://portal.cuhk.edu.hk/\" style=\"color: rgb(0, 150, 201);\" target=\"_blank\">MyCUHK</a> Password after you graduate.')\n",
      "('Can I view /update my personal information in MyPage?', 'The personal information that can be viewed/ updated includes names, addresses, phone &amp; fax numbers, email addresses and work experience.')\n",
      "('What is the browser requirement for<a href=\"https://portal.cuhk.edu.hk/\" style=\"color: rgb(0, 150, 201);\" target=\"_blank\">MyCUHK</a>?', '<a href=\"https://portal.cuhk.edu.hk/\" style=\"color: rgb(0, 150, 201);\" target=\"_blank\">MyCUHK</a> can run on most commonly used browsers such as Microsoft Internet Explorer, Mozilla Firefox and Apple Safari, with Microsoft Internet Explorer 6.x/7/x being the preferred platform with full support.')\n",
      "('What is the Root security certificate requirement for the new <a href=\"https://portal.cuhk.edu.hk/\" style=\"color: rgb(0, 150, 201);\" target=\"_blank\">MyCUHK</a>?', 'The new <a href=\"https://portal.cuhk.edu.hk/\" style=\"color: rgb(0, 150, 201);\" target=\"_blank\">MyCUHK</a> website uses root security issued by the Hong Kong Post to deliver secured website content. This root certificate is automatically trusted by Microsoft Internet Explorer 6 or higher. If you use other browsers, you are advised to install Hong Kong Post Root Certificate in order to operate smoothly without the security certificate warnings.')\n"
     ]
    }
   ],
   "source": [
    "for li in soup.select('li'):\n",
    "    a = li.select('[name]')   # not find('a') coz there are other links\n",
    "    if len(a) > 0:\n",
    "        a[0].extract()  # remove a\n",
    "    html = li.decode_contents()  # innerHTML\n",
    "    \n",
    "    segments = html.split('<br/>')\n",
    "    \n",
    "    q = segments[0].strip()\n",
    "    \n",
    "    a = '<br/>'.join(segments[1:]).strip()\n",
    "    print((q, a))\n"
   ]
  },
  {
   "cell_type": "code",
   "execution_count": null,
   "metadata": {},
   "outputs": [],
   "source": [
    "# Final Version below"
   ]
  },
  {
   "cell_type": "code",
   "execution_count": 37,
   "metadata": {
    "scrolled": true
   },
   "outputs": [
    {
     "data": {
      "text/plain": [
       "[{'a': 'Once their graduate status is confirmed by the University Senate, graduates will become CU alumni.',\n",
       "  'q': 'When would CU graduates become CU alumni?'},\n",
       " {'a': 'There is no CU Alumni Card per se, but alumni can apply for the \"CU Alumni Credit Card\" to signify their special status as CU alumni. Holders of the \"CU Alumni Credit Card\" can enjoy special discount plus up to 4 hours of free parking when using campus facilities. For details and application, please visit <a href=\"cu-alumni-credit-card\" style=\"color: rgb(0, 150, 201);\" target=\"_blank\">CU Alumni Credit Card webpage</a>.',\n",
       "  'q': 'Is there a CU Alumni Card?'},\n",
       " {'a': 'As a CU graduate, you can enjoy to a lot of benefits and services. CU alumni are welcome to return to campus to use the following facilities: libraries, swimming pool, selected sports facilities and CU Staff Common Room Restaurant etc. Please visit <a href=\"campus-facilities-and-services\" style=\"color: rgb(0, 150, 201);\" target=\"_blank\">Alumni Benefits webpage</a> for details. Holders of the CU Alumni Credit Card can enjoy special discount plus up to 4 hours of free parking when using the facilities.',\n",
       "  'q': 'What benefits and services could CU alumni enjoy? Can alumni use campus facilities?'},\n",
       " {'a': 'All CUHK graduates are eligible to apply for the \"Alumni Library Card\" (Borrower\\'s Card or Reader\\'s Card) which allows them access to any library of the University Library System. They may also apply for the \"Digital Library Service for Alumni\". For application fee, procedure and details, please visit the <a href=\"http://www.lib.cuhk.edu.hk/en\" style=\"color: rgb(0, 150, 201);\" target=\"_blank\">Library webpage</a>. For application, please log on to the <a href=\"https://portal.cuhk.edu.hk/\" style=\"color: rgb(0, 150, 201);\" target=\"_blank\">MyCUHK</a> portal to apply.',\n",
       "  'q': 'May I use CU library service?'},\n",
       " {'a': 'Once the graduation status of CUHK students has been approved by the Senate of the University, the students are considered as graduates of the University and may apply for the alumni library services through <a href=\"https://portal.cuhk.edu.hk/\" style=\"color: rgb(0, 150, 201);\" target=\"_blank\">MyCUHK</a>. For undergraduates, normally, the graduation list of the year will be confirmed by the Senate in mid-March (for first term graduates) or mid-August (for second term graduates). For postgraduate students, the graduation list will be approved by the Senate in batches throughout the year. Students may check with the Registration and Examinations Section of the Registry the status if necessary (email: <a href=\"mailto:ugadmin@cuhk.edu.hk\" style=\"color: rgb(0, 150, 201);\">ugadmin@cuhk.edu.hk</a> ) OR check with the Graduate School Office (email: <a href=\"mailto:gradschool@cuhk.edu.hk\" style=\"color: rgb(0, 150, 201);\">gradschool@cuhk.edu.hk</a>).',\n",
       "  'q': 'I have already completed all the required courses. Am I a \"graduate\" of the University? Can I apply for the alumni library services?'},\n",
       " {'a': 'All degree graduates will automatically become members of the \"CUHK Convocation\". For the objectives and activities of the \"CUHK Convocation\", please visit the <a href=\"http://www.alumni.cuhk.edu.hk/convocation/eng/\" style=\"color: rgb(0, 150, 201);\" target=\"_blank\">CUHK Convocation webpage</a>.<br/>\\n\\tTo enhance the connection among alumni of different Colleges and Schools, the Federation of Alumni Associations of CUHK (FAA) is set up consisting of the Alumni Associations of Chung Chi College, New Asia College, United College, Shaw College and School of Education, etc. as basic members and the Alumni Association of Part-time Degree Programme as an affiliate member. Members of any of the above Alumni Associations are also the members of FAA. Please visit <a href=\"http://www.alumni.cuhk.edu.hk/faa/\" style=\"color: rgb(0, 150, 201);\" target=\"_blank\">FAA webpage</a> for further details.<br/>\\n\\tCurrently, there are over 100 CU alumni associations established in Hong Kong, China and other parts of the world. They are organized by college, major, profession or interest which together form a CUHK alumni network worldwide.<br/>\\n\\tNew alumni are most welcome to join the alumni associations of their interest and take part in their activities. Through participation in these alumni bodies, you will not only be able to maintain your linkage with fellow classmates and alumni, but also expand your personal network which will in turn benefit your further development in life. Please visit <a href=\"associations\" style=\"color: rgb(0, 150, 201);\" target=\"_blank\">Alumni Organization webpage</a> for details.',\n",
       "  'q': 'What are the alumni bodies which alumni can join?'},\n",
       " {'a': 'For names and contact officers of all CU alumni associations around the world, please visit <a href=\"associations/region/offshore\" style=\"color: rgb(0, 150, 201);\" target=\"_blank\">Alumni Organization webpage</a>.',\n",
       "  'q': 'I am going to live / work / study abroad, how can I know if there is any alumni association with which I can get in touch?'},\n",
       " {'a': 'Please visit <a href=\"https://portal.cuhk.edu.hk/\" style=\"color: rgb(0, 150, 201);\" target=\"_blank\">MyCUHK</a> for details and sign up for the free and convenient service.',\n",
       "  'q': 'How to get a free lifetime Alumni Email Forwarding Address?'},\n",
       " {'a': 'No matter where you are, with your email and mailing address, Alumni Affairs Office can send you the latest copy of \"CU Alumni\" magazine and alumni e-newsletter \"Alumni Matters\", and keep you informed of the latest news and activities of all CU alumni associations and the University.<br/>\\n\\tDo let us know by updating your personal information through <a href=\"https://portal.cuhk.edu.hk/\" style=\"color: rgb(0, 150, 201);\" target=\"_blank\">MyCUHK</a>.',\n",
       "  'q': 'Why should I inform Alumni Affairs Office of my email and mailing address?'},\n",
       " {'a': 'For graduates of undergraduate programme, please visit:<br/>\\n<a href=\"http://www.res.cuhk.edu.hk/en-gb/applications/graduates-of-full-time-undergraduate-programmes\" style=\"color: rgb(0, 150, 201);\" target=\"_blank\">http://www.res.cuhk.edu.hk/en-gb/applications/graduates-of-full-time-undergraduate-programmes</a><br/>\\n\\tFor graduates of postgraduate programme, please visit:<br/>\\n<a href=\"https://www.gs.cuhk.edu.hk/page/RequestOfficialDocuments\" style=\"color: rgb(0, 150, 201);\" target=\"_blank\">https://www.gs.cuhk.edu.hk/page/RequestOfficialDocuments</a>',\n",
       "  'q': 'How can I get a transcript?'},\n",
       " {'a': 'You are welcome to contribute news to \"CU Alumni\" magazine.',\n",
       "  'q': 'How can I share my news with alumni?'},\n",
       " {'a': 'Thank you for your consideration of making a gift to your alma mater. Alumni may make your donation <a href=\"https://cloud.itsc.cuhk.edu.hk/forms/forms/35.aspx\" style=\"color: rgb(0, 150, 201);\" target=\"_blank\">online</a> or complete and return the <a href=\"http://alumni.cuhk.edu.hk/assets/media/donation.pdf\" style=\"color: rgb(0, 150, 201);\" target=\"_blank\">donation form</a> to show that you CARE!',\n",
       "  'q': 'How can I make a gift to CU?'},\n",
       " {'a': '<a href=\"https://portal.cuhk.edu.hk/\" style=\"color: rgb(0, 150, 201);\" target=\"_blank\">MyCUHK</a> is an online platform for alumni, staff and students to access campus news and a wide range of online services include updating personal contact details, submitting online service applications and registering for University\\'s alumni events.<br/>\\n\\tPlease visit the <a href=\"https://portal.cuhk.edu.hk/\" style=\"color: rgb(0, 150, 201);\" target=\"_blank\">MyCUHK</a> for details and log in.',\n",
       "  'q': 'What is <a href=\"https://portal.cuhk.edu.hk/\" style=\"color: rgb(0, 150, 201);\" target=\"_blank\">MyCUHK</a>? What kind of services does it provide?'},\n",
       " {'a': 'Alumni are required to login <a href=\"https://portal.cuhk.edu.hk/\" style=\"color: rgb(0, 150, 201);\" target=\"_blank\">MyCUHK</a> with their Alumni ID and the <a href=\"https://portal.cuhk.edu.hk/\" style=\"color: rgb(0, 150, 201);\" target=\"_blank\">MyCUHK</a> password.',\n",
       "  'q': 'What are required to login <a href=\"https://portal.cuhk.edu.hk/\" style=\"color: rgb(0, 150, 201);\" target=\"_blank\">MyCUHK</a>?'},\n",
       " {'a': 'Beginning from October 2010, every alumnus of the University has been assigned with a 10-digit Alumni ID which is an important identification number and will be widely used in online systems of the University requiring authentication, including the <a href=\"https://portal.cuhk.edu.hk/\" style=\"color: rgb(0, 150, 201);\" target=\"_blank\">MyCUHK</a> online platform. When a CUHK graduate pursues another degree at the University, his/her Alumni ID will also serve as his/her Student ID. Alumni who graduated after October 2010 should use their 10-digit student ID as their Alumni ID.',\n",
       "  'q': 'What is Alumni ID?'},\n",
       " {'a': 'You can acquire the number from the <a href=\"https://portal.cuhk.edu.hk/\" style=\"color: rgb(0, 150, 201);\" target=\"_blank\">MyCUHK</a> website (please <a href=\"http://www.alumni.cuhk.edu.hk/MyCUHK/InquireAlumniID.html\" style=\"color: rgb(0, 150, 201);\" target=\"_blank\">visit here</a> for more details).',\n",
       "  'q': 'How can I get my Alumni ID?'},\n",
       " {'a': 'Please visit <a href=\"https://portal.cuhk.edu.hk/\" style=\"color: rgb(0, 150, 201);\" target=\"_blank\">MyCUHK</a> and input your HKID number and graduation information in the front page of the MyCUHK platform to acquire your lost/ forgotten Alumni ID (please <a href=\"http://www.alumni.cuhk.edu.hk/MyCUHK/InquireAlumniID.html\" style=\"color: rgb(0, 150, 201);\" target=\"_blank\">visit here</a> for more details). In case your HKID information is not available for the request to be processed automatically, please contact the Alumni Affairs Office ( <a href=\"mailto:mycuhk_alumni@cuhk.edu.hk\" style=\"color: rgb(0, 150, 201);\">mycuhk_alumni@cuhk.edu.hk</a>) to provide your graduation certificate and identification document for processing the request.',\n",
       "  'q': 'How do I retrieve my Alumni ID if I have lost it?'},\n",
       " {'a': 'The Alumni ID is a life-long identification number assigned to individual alumni and cannot be changed.',\n",
       "  'q': 'Can I change my Alumni ID?'},\n",
       " {'a': 'To login MyCUHK, you are required to input your Alumni ID as well as the <a href=\"https://portal.cuhk.edu.hk/\" style=\"color: rgb(0, 150, 201);\" target=\"_blank\">MyCUHK</a> Password. Alumni have to initialize their account by setting up his/her <a href=\"https://portal.cuhk.edu.hk/\" style=\"color: rgb(0, 150, 201);\" target=\"_blank\">MyCUHK</a> Password at the front page of <a href=\"https://portal.cuhk.edu.hk/\" style=\"color: rgb(0, 150, 201);\" target=\"_blank\">MyCUHK</a> (please <a href=\"http://www.alumni.cuhk.edu.hk/MyCUHK/ResetPassword.html\" style=\"color: rgb(0, 150, 201);\" target=\"_blank\">visit here</a> for more details). Alumni may also change his/her <a href=\"https://portal.cuhk.edu.hk/\" style=\"color: rgb(0, 150, 201);\" target=\"_blank\">MyCUHK</a> password at the MyCUHK platform.',\n",
       "  'q': 'What is MyCUHK Password?'},\n",
       " {'a': 'You can receive a password reset email to change your password after inputting the required graduation information and valid email address at the Alumni Account Management page of <a href=\"https://portal.cuhk.edu.hk/\" style=\"color: rgb(0, 150, 201);\" target=\"_blank\">MyCUHK</a> (please <a href=\"http://www.alumni.cuhk.edu.hk/MyCUHK/ResetPassword.html\" style=\"color: rgb(0, 150, 201);\" target=\"_blank\">visit here</a> for more details).',\n",
       "  'q': 'What if I have forgotten my MyCUHK password?'},\n",
       " {'a': 'You can login <a href=\"https://portal.cuhk.edu.hk/\" style=\"color: rgb(0, 150, 201);\" target=\"_blank\">MyCUHK</a> and change the password online.',\n",
       "  'q': 'How to change my <a href=\"https://portal.cuhk.edu.hk/\" style=\"color: rgb(0, 150, 201);\" target=\"_blank\">MyCUHK</a> password?'},\n",
       " {'a': 'Students, whether or not they are alumni, should use the CWEM password to login. You may decide whether or not to keep your CWEM as your <a href=\"https://portal.cuhk.edu.hk/\" style=\"color: rgb(0, 150, 201);\" target=\"_blank\">MyCUHK</a> Password after you graduate.',\n",
       "  'q': 'I am a graduate of the University and also a current student. Do I need to set up a new <a href=\"https://portal.cuhk.edu.hk/\" style=\"color: rgb(0, 150, 201);\" target=\"_blank\">MyCUHK</a> password to login <a href=\"https://portal.cuhk.edu.hk/\" style=\"color: rgb(0, 150, 201);\" target=\"_blank\">MyCUHK</a>? Or should I use my CWEM password to login?'},\n",
       " {'a': 'The personal information that can be viewed/ updated includes names, addresses, phone &amp; fax numbers, email addresses and work experience.',\n",
       "  'q': 'Can I view /update my personal information in MyPage?'},\n",
       " {'a': '<a href=\"https://portal.cuhk.edu.hk/\" style=\"color: rgb(0, 150, 201);\" target=\"_blank\">MyCUHK</a> can run on most commonly used browsers such as Microsoft Internet Explorer, Mozilla Firefox and Apple Safari, with Microsoft Internet Explorer 6.x/7/x being the preferred platform with full support.',\n",
       "  'q': 'What is the browser requirement for<a href=\"https://portal.cuhk.edu.hk/\" style=\"color: rgb(0, 150, 201);\" target=\"_blank\">MyCUHK</a>?'},\n",
       " {'a': 'The new <a href=\"https://portal.cuhk.edu.hk/\" style=\"color: rgb(0, 150, 201);\" target=\"_blank\">MyCUHK</a> website uses root security issued by the Hong Kong Post to deliver secured website content. This root certificate is automatically trusted by Microsoft Internet Explorer 6 or higher. If you use other browsers, you are advised to install Hong Kong Post Root Certificate in order to operate smoothly without the security certificate warnings.',\n",
       "  'q': 'What is the Root security certificate requirement for the new <a href=\"https://portal.cuhk.edu.hk/\" style=\"color: rgb(0, 150, 201);\" target=\"_blank\">MyCUHK</a>?'}]"
      ]
     },
     "execution_count": 37,
     "metadata": {},
     "output_type": "execute_result"
    }
   ],
   "source": [
    "result = []\n",
    "for li in soup.select('li'):\n",
    "    a = li.select('[name]')   # not find('a') coz there are other links\n",
    "    if len(a) > 0:\n",
    "        a[0].extract()  # remove a\n",
    "    html = li.decode_contents()  # innerHTML\n",
    "    \n",
    "    segments = html.split('<br/>')\n",
    "    \n",
    "    q = segments[0].strip()\n",
    "    \n",
    "    a = '<br/>'.join(segments[1:]).strip()\n",
    "    result.append({\n",
    "        'q': q,\n",
    "        'a': a,\n",
    "    })\n",
    "\n",
    "en = result\n",
    "result"
   ]
  },
  {
   "cell_type": "code",
   "execution_count": 38,
   "metadata": {},
   "outputs": [],
   "source": [
    "# https://alumni.cuhk.edu.hk/zh-Hant/frequently-asked-questions\n",
    "html = '''<ol style=\"color: rgb(0, 0, 0);  \">\n",
    "\t<li style=\"z-index: 190;\"><a name=\"01\" style=\"text-decoration: underline; color: rgb(0, 150, 201);\"></a>中大畢業生何時成為中大校友？<br>\n",
    "\t所有畢業生在其身分由大學教務會正式通過後，便成為中大校友。</li>\n",
    "\t<br>\n",
    "\t<li style=\"z-index: 180;\"><a name=\"02\" style=\"text-decoration: underline; color: rgb(0, 150, 201);\"></a>成為校友後，是否需要申請校友証？<br>\n",
    "\t校友並不需要申請校友証，但校友可申請「中大校友信用卡」，作為中大校友 的身分象徵。持「中大校友信用卡」校友使用校園有關設施，除可獲特別優惠，更可享高達4小時免費泊車。</li>\n",
    "\t<br>\n",
    "\t<li style=\"z-index: 170;\"><a name=\"03\" style=\"text-decoration: underline; color: rgb(0, 150, 201);\"></a>畢業離校後，校友有哪些專享優惠及服務？仍可享用校園設施嗎？<br>\n",
    "\t作為中大校友，你可享有一連串的優惠和服務。大學亦歡迎中大校友在畢業離校後，經常返回母校享用校園設施：包括圖書館、游泳池、部分體育設施以及大學教職員會所餐廳等。詳情請參閱<a href=\"campus-facilities-and-services\" style=\"color: rgb(0, 150, 201);\" target=\"_blank\">校友專享網頁</a>。持「中大校友信用卡」校友使用有關設施，除可獲特別優惠，更可享高達4小時免費泊車。</li>\n",
    "\t<br>\n",
    "\t<li style=\"z-index: 160;\"><a name=\"04\" style=\"text-decoration: underline; color: rgb(0, 150, 201);\"></a>我可否使用大學圖書館？<br>\n",
    "\t凡中大畢業生均可申請「校友圖書證」，包括借書證及閱讀證，以使用大學圖書館系統各圖書館。此外，他們亦可以申請「校友數碼圖書館服務」。申請費用、程序及詳情，請瀏覽<a href=\"http://www.lib.cuhk.edu.hk/tc\" style=\"color: rgb(0, 150, 201);\" target=\"_blank\">圖書館網頁</a>。</li>\n",
    "\t<br>\n",
    "\t<li style=\"z-index: 150;\"><a name=\"05\" style=\"text-decoration: underline; color: rgb(0, 150, 201);\"></a>我已完成一切所需課程，是否已經是中大「畢業生」？可以申請校友圖書證嗎？<br>\n",
    "\t同學的畢業身份一經大學教務會（Senate）通過確認後，便成為中大畢業生，可申請校友圖書館服務。有關申請請透過<a href=\"https://portal.cuhk.edu.hk/\" style=\"color: rgb(0, 150, 201);\" target=\"_blank\">MyCUHK</a>進行。一般而言，應屆上/下學期本科生畢業生名單通常會分別在每年3月中及8月中獲教務會正式通過。研究生畢業生名單會於年內分批經教務會通過，具體正式畢業日期可分別向大學教務處註冊及考試組（電郵：<a href=\"mailto:ugadmin@cuhk.edu.hk\" style=\"color: rgb(0, 150, 201);\">ugadmin@cuhk.edu.hk</a>）或向研究院辦公室查詢（電郵：<a href=\"mailto:gradschool@cuhk.edu.hk\" style=\"color: rgb(0, 150, 201);\">gradschool@cuhk.edu.hk</a>）。</li>\n",
    "\t<br>\n",
    "\t<li style=\"z-index: 140;\"><a name=\"06\" style=\"text-decoration: underline; color: rgb(0, 150, 201);\"></a>現時有哪些中大校友組織，可供校友加入？<br>\n",
    "\t全體中大學位畢業生，在畢業後便自動成為「中大校友評議會」成員。有關「中大校友評議會」之工作及活動發展，請瀏覽<a href=\"http://www.alumni.cuhk.edu.hk/convocation\" style=\"color: rgb(0, 150, 201);\" target=\"_blank\">校友評議會專頁</a>。 為了更有效地聯繫不同書院/學院的校友，「中大校友會聯會」亦應此而成立，其基本會員有崇基學院校友會、新亞書院校友會、聯合書院校友會、逸夫書院校友會及教育學院校友會等；另有附屬會員兼讀學士學位課程校友會。只要加入任何一個成員屬會，便已是聯會會員。詳情請瀏覽<a href=\"http://www.alumni.cuhk.edu.hk/faa\" style=\"color: rgb(0, 150, 201);\" target=\"_blank\">校友會聯會專頁</a>。<br>\n",
    "\t與此同時，現時有超過100個中大校友組織遍及本港、中國及海外不同地區，連結成為中大校友的世界網絡。這些分別由不同書院、學系、專業或興趣的熱心校友組成的校友組織，均歡迎校友加入成為會員。<br>\n",
    "\t加入中大校友組織，你可以和昔日同窗以及不同年代校友保持聯繫，更能擴展個人聯絡網，有助未來發展。詳情請瀏覽<a href=\"associations\" style=\"color: rgb(0, 150, 201);\" target=\"_blank\">校友組織</a>專頁。</li>\n",
    "\t<br>\n",
    "\t<li style=\"z-index: 130;\"><a name=\"07\" style=\"text-decoration: underline; color: rgb(0, 150, 201);\"></a>我將要到海外移民／工作／留學，是否有海外校友會可聯絡？<br>\n",
    "\t中大各海外校友會名稱及聯絡人名單，請瀏覽<a href=\"associations/region/offshore\" style=\"color: rgb(0, 150, 201);\" target=\"_blank\">校友組織</a>專頁。</li>\n",
    "\t<br>\n",
    "\t<li style=\"z-index: 120;\"><a name=\"08\" style=\"text-decoration: underline; color: rgb(0, 150, 201);\"></a>怎樣申請校友個人終身免費電郵轉遞地址？<br>\n",
    "\t校友可於<a href=\"https://portal.cuhk.edu.hk/\" style=\"color: rgb(0, 150, 201);\" target=\"_blank\">MyCUHK</a>申請使用終身免費電郵轉遞地址<a href=\"mailto:name@alumni.cuhk.net\" style=\"color: rgb(0, 150, 201);\">name@alumni.cuhk.net</a>。</li>\n",
    "\t<br>\n",
    "\t<li style=\"z-index: 110;\"><a name=\"09\" style=\"text-decoration: underline; color: rgb(0, 150, 201);\"></a>為何我要通知校友事務處我的電郵及通訊地址？<br>\n",
    "\t無論你身處何地，校友事務處都會通過電郵或通訊地址定期寄上最新一期《中大校友》雜誌、中大校友電子月報，以及有關中大各校友會及大學最新消息和活動。</li>\n",
    "\t<br>\n",
    "\t<li style=\"z-index: 100;\"><a name=\"10\" style=\"text-decoration: underline; color: rgb(0, 150, 201);\"></a>如何申請／領取成績證明？<br>\n",
    "\t本科生畢業生，請登入：<br>\n",
    "\t<a href=\"http://www.res.cuhk.edu.hk/en-gb/applications/graduates-of-full-time-undergraduate-programmes\" style=\"color: rgb(0, 150, 201);\" target=\"_blank\">http://www.res.cuhk.edu.hk/en-gb/applications/graduates-of-full-time-undergraduate-programmes</a><br>\n",
    "\t研究生畢業生，請登入：<br>\n",
    "\t<a href=\"https://www.gs.cuhk.edu.hk/page/RequestOfficialDocuments\" style=\"color: rgb(0, 150, 201);\" target=\"_blank\">https://www.gs.cuhk.edu.hk/page/RequestOfficialDocuments</a></li>\n",
    "\t<br>\n",
    "\t<li style=\"z-index: 90;\"><a name=\"11\" style=\"text-decoration: underline; color: rgb(0, 150, 201);\"></a>如何與其他校友分享我的近況？<br>\n",
    "\t歡迎投稿《中大校友》，讓大家分享你的最新消息。</li>\n",
    "\t<br>\n",
    "\t<li style=\"z-index: 80;\"><a name=\"12\" style=\"text-decoration: underline; color: rgb(0, 150, 201);\"></a>我可以怎樣回饋中大？<br>\n",
    "\t多謝你考慮回饋母校，你可以選擇不同的方式來支持大學，透過<a href=\"https://cloud.itsc.cuhk.edu.hk/forms/forms/35.aspx\" style=\"color: rgb(0, 150, 201);\" target=\"_blank\">網上平台</a>或下載<a href=\"http://alumni.cuhk.edu.hk/assets/media/donation.pdf\" style=\"color: rgb(0, 150, 201);\" target=\"_blank\">捐款表格</a>，作出捐款。</li>\n",
    "\t<br>\n",
    "\t<li style=\"z-index: 70;\"><a name=\"13\" style=\"text-decoration: underline; color: rgb(0, 150, 201);\"></a>甚麼是<a href=\"https://portal.cuhk.edu.hk/\" style=\"color: rgb(0, 150, 201);\" target=\"_blank\">MyCUHK</a>？ 它提供甚麼服務？<br>\n",
    "\t<a href=\"https://portal.cuhk.edu.hk/\" style=\"color: rgb(0, 150, 201);\" target=\"_blank\">MyCUHK</a>是一個一站式平台，校友及師生可透過它接收大學的最新消息及使用一系列的網上服務包括更新個人通訊資料、申請校友服務及登記出席大學舉辦的校友活動等。</li>\n",
    "\t<br>\n",
    "\t<li style=\"z-index: 60;\"><a name=\"14\" style=\"text-decoration: underline; color: rgb(0, 150, 201);\"></a>登入<a href=\"https://portal.cuhk.edu.hk/\" style=\"color: rgb(0, 150, 201);\" target=\"_blank\">MyCUHK</a>時需輸入甚麼帳戶名稱及密碼？<br>\n",
    "\t校友需憑校友編號及啟動戶口時設定的密碼登入<a href=\"https://portal.cuhk.edu.hk/\" style=\"color: rgb(0, 150, 201);\" target=\"_blank\">MyCUHK</a>。</li>\n",
    "\t<br>\n",
    "\t<li style=\"z-index: 50;\"><a name=\"15\" style=\"text-decoration: underline; color: rgb(0, 150, 201);\"></a>甚麼是校友編號（Alumni ID）？<br>\n",
    "\t由2010年10 月起，每位中大校友會獲編配一個10個位的校友編號，這個編號是用於所有大學的網上系統，包括<a href=\"https://portal.cuhk.edu.hk/\" style=\"color: rgb(0, 150, 201);\" target=\"_blank\">MyCUHK</a>一站式網上平台，作為身份識認。而這個編號亦會是終身使用，假如校友回校進修，校友編號亦會是其學生號碼。</li>\n",
    "\t<br>\n",
    "\t<li style=\"z-index: 40;\"><a name=\"16\" style=\"text-decoration: underline; color: rgb(0, 150, 201);\"></a>校友可以怎樣取得校友編號？<br>\n",
    "\t校友事務處在2010年10月中下旬向所有當時在資料庫內有紀錄之本地及海外校友派發其校友編號。假如校友並無收到校友事務處的通知，亦可自行在<a href=\"https://portal.cuhk.edu.hk/\" style=\"color: rgb(0, 150, 201);\" target=\"_blank\">MyCUHK</a>網站取回有關編號。而在2010年10月之後畢業的校友可繼續使用其10個位的學生編號登入<a href=\"https://portal.cuhk.edu.hk/\" style=\"color: rgb(0, 150, 201);\" target=\"_blank\">MyCUHK</a>，其學生編號亦已自動成為其校友編號。</li>\n",
    "\t<br>\n",
    "\t<li style=\"z-index: 30;\"><a name=\"17\" style=\"text-decoration: underline; color: rgb(0, 150, 201);\"></a>假如遺失或忘記了校友編號，可以怎樣取回？<br>\n",
    "\t校友可以在<a href=\"https://portal.cuhk.edu.hk/\" style=\"color: rgb(0, 150, 201);\" target=\"_blank\">MyCUHK</a>網站透過輸入香港身份證號碼及畢業資料，重新取回校友編號（<a href=\"http://www.alumni.cuhk.edu.hk/MyCUHK/InquireAlumniID.html\" style=\"color: rgb(0, 150, 201);\" target=\"_blank\">請按此參考圖示</a>）。假如系統內並無相關的香港身份證號碼紀錄，校友則需聯絡校友事務處（電郵：<a href=\"mailto:mycuhk_alumni@cuhk.edu.hk\" style=\"color: rgb(0, 150, 201);\">mycuhk_alumni@cuhk.edu.hk</a>），並提供畢業證書及身份證明文件，經核實後將獲發回校友編號。</li>\n",
    "\t<br>\n",
    "\t<li style=\"z-index: 20;\"><a name=\"18\" style=\"text-decoration: underline; color: rgb(0, 150, 201);\"></a>校友是否可以更改校友編號？<br>\n",
    "\t校友編號是分發予所有校友的終身專號，不作更改。</li>\n",
    "\t<br>\n",
    "\t<li style=\"z-index: 10;\"><a name=\"19\" style=\"text-decoration: underline; color: rgb(0, 150, 201);\"></a>甚麼是<a href=\"https://portal.cuhk.edu.hk/\" style=\"color: rgb(0, 150, 201);\" target=\"_blank\">MyCUHK</a>密碼？<br>\n",
    "\t校友需要在<a href=\"https://portal.cuhk.edu.hk/\" style=\"color: rgb(0, 150, 201);\" target=\"_blank\">MyCUHK</a>首頁先設定自己的密碼（<a href=\"http://www.alumni.cuhk.edu.hk/MyCUHK/ResetPassword.html\" style=\"color: rgb(0, 150, 201);\" target=\"_blank\">請按此參考圖示</a>），以便登入<a href=\"https://portal.cuhk.edu.hk/\" style=\"color: rgb(0, 150, 201);\" target=\"_blank\">MyCUHK</a>。此密碼是由校友在網上自行設定，隨時可以由校友自行修改。</li>\n",
    "\t<br>\n",
    "\t<li style=\"z-index: 0;\"><a name=\"20\" style=\"text-decoration: underline; color: rgb(0, 150, 201);\"></a>假如忘記號碼，可以怎樣取回？<br>\n",
    "\t在<a href=\"https://portal.cuhk.edu.hk/\" style=\"color: rgb(0, 150, 201);\" target=\"_blank\">MyCUHK</a>輸入所需畢業資料及提供存於大學資料庫的電郵地址，即可接收密碼設定電郵，跟隨指示重新設定密碼（<a href=\"http://www.alumni.cuhk.edu.hk/MyCUHK/ResetPassword.html\" style=\"color: rgb(0, 150, 201);\" target=\"_blank\">請按此參考圖示</a>）。</li>\n",
    "\t<br>\n",
    "\t<li style=\"z-index: -10;\"><a name=\"21\" style=\"text-decoration: underline; color: rgb(0, 150, 201);\"></a>如何更改<a href=\"https://portal.cuhk.edu.hk/\" style=\"color: rgb(0, 150, 201);\" target=\"_blank\">MyCUHK</a>密碼？<br>\n",
    "\t校友在輸入校友編號及密碼成功登入<a href=\"https://portal.cuhk.edu.hk/\" style=\"color: rgb(0, 150, 201);\" target=\"_blank\">MyCUHK</a>網站後，即可到相關網頁連結更改密碼。</li>\n",
    "\t<br>\n",
    "\t<li style=\"z-index: -20;\"><a name=\"22\" style=\"text-decoration: underline; color: rgb(0, 150, 201);\"></a>我是校友，亦是在校同學，是否需要在CWEM密碼外，另行設定密碼以進入<a href=\"https://portal.cuhk.edu.hk/\" style=\"color: rgb(0, 150, 201);\" target=\"_blank\">MyCUHK</a>？<br>\n",
    "\t不需要。在校同學，不論是否校友，均一律以CWEM密碼登入<a href=\"https://portal.cuhk.edu.hk/\" style=\"color: rgb(0, 150, 201);\" target=\"_blank\">MyCUHK</a>。畢業之後，同學可繼續沿用CWEM密碼作為的密碼登入<a href=\"https://portal.cuhk.edu.hk/\" style=\"color: rgb(0, 150, 201);\" target=\"_blank\">MyCUHK</a>，亦可利用在MyCUHK內之更改密碼功能將CWEM密碼修改為其他密碼。</li>\n",
    "\t<br>\n",
    "\t<li style=\"z-index: -40;\"><a name=\"23\" style=\"text-decoration: underline; color: rgb(0, 150, 201);\"></a>在MyPage可以查閱及更新那些個人資料？<br>\n",
    "\t校友可以在MyPage查閱/更新5項個人資料，包括：個人姓名資料、地址、電話及傳真號碼、電郵、以及工作經驗資料。</li>\n",
    "\t<br>\n",
    "\t<li style=\"z-index: -60;\"><a name=\"24\" style=\"text-decoration: underline; color: rgb(0, 150, 201);\"></a>瀏覽<a href=\"https://portal.cuhk.edu.hk/\" style=\"color: rgb(0, 150, 201);\" target=\"_blank\">MyCUHK</a>需安裝甚麼瀏覽器？<br>\n",
    "\t常用瀏覽器如Microsoft Internet Explorer, Mozilla Firefox 和Apple Safari均適用於<a href=\"https://portal.cuhk.edu.hk/\" style=\"color: rgb(0, 150, 201);\" target=\"_blank\">MyCUHK</a>系統。不過我們建議校友使用Microsoft Internet Explorer 6.x/7.x，以確保系統全面支援。</li>\n",
    "\t<br>\n",
    "\t<li style=\"z-index: -70;\"><a name=\"25\" style=\"text-decoration: underline; color: rgb(0, 150, 201);\"></a><a href=\"https://portal.cuhk.edu.hk/\" style=\"color: rgb(0, 150, 201);\" target=\"_blank\">MyCUHK</a>基本保安認證標準是甚麼？<br>\n",
    "\t為確保網頁保密內容順利傳輸，<a href=\"https://portal.cuhk.edu.hk/\" style=\"color: rgb(0, 150, 201);\" target=\"_blank\">MyCUHK</a>系統採用香港郵政的電子證書，該電子證書將自動得到Microsoft Internet Explorer 6 或更高系統所認受。如校友使用其他瀏覽器，我們建議運作前先安裝香港郵政根源證書，避免因安全設定阻礙運作。</li>\n",
    "</ol>'''"
   ]
  },
  {
   "cell_type": "code",
   "execution_count": 39,
   "metadata": {
    "scrolled": true
   },
   "outputs": [
    {
     "data": {
      "text/plain": [
       "[{'a': 'Once their graduate status is confirmed by the University Senate, graduates will become CU alumni.',\n",
       "  'q': 'When would CU graduates become CU alumni?'},\n",
       " {'a': 'There is no CU Alumni Card per se, but alumni can apply for the \"CU Alumni Credit Card\" to signify their special status as CU alumni. Holders of the \"CU Alumni Credit Card\" can enjoy special discount plus up to 4 hours of free parking when using campus facilities. For details and application, please visit <a href=\"cu-alumni-credit-card\" style=\"color: rgb(0, 150, 201);\" target=\"_blank\">CU Alumni Credit Card webpage</a>.',\n",
       "  'q': 'Is there a CU Alumni Card?'},\n",
       " {'a': 'As a CU graduate, you can enjoy to a lot of benefits and services. CU alumni are welcome to return to campus to use the following facilities: libraries, swimming pool, selected sports facilities and CU Staff Common Room Restaurant etc. Please visit <a href=\"campus-facilities-and-services\" style=\"color: rgb(0, 150, 201);\" target=\"_blank\">Alumni Benefits webpage</a> for details. Holders of the CU Alumni Credit Card can enjoy special discount plus up to 4 hours of free parking when using the facilities.',\n",
       "  'q': 'What benefits and services could CU alumni enjoy? Can alumni use campus facilities?'},\n",
       " {'a': 'All CUHK graduates are eligible to apply for the \"Alumni Library Card\" (Borrower\\'s Card or Reader\\'s Card) which allows them access to any library of the University Library System. They may also apply for the \"Digital Library Service for Alumni\". For application fee, procedure and details, please visit the <a href=\"http://www.lib.cuhk.edu.hk/en\" style=\"color: rgb(0, 150, 201);\" target=\"_blank\">Library webpage</a>. For application, please log on to the <a href=\"https://portal.cuhk.edu.hk/\" style=\"color: rgb(0, 150, 201);\" target=\"_blank\">MyCUHK</a> portal to apply.',\n",
       "  'q': 'May I use CU library service?'},\n",
       " {'a': 'Once the graduation status of CUHK students has been approved by the Senate of the University, the students are considered as graduates of the University and may apply for the alumni library services through <a href=\"https://portal.cuhk.edu.hk/\" style=\"color: rgb(0, 150, 201);\" target=\"_blank\">MyCUHK</a>. For undergraduates, normally, the graduation list of the year will be confirmed by the Senate in mid-March (for first term graduates) or mid-August (for second term graduates). For postgraduate students, the graduation list will be approved by the Senate in batches throughout the year. Students may check with the Registration and Examinations Section of the Registry the status if necessary (email: <a href=\"mailto:ugadmin@cuhk.edu.hk\" style=\"color: rgb(0, 150, 201);\">ugadmin@cuhk.edu.hk</a> ) OR check with the Graduate School Office (email: <a href=\"mailto:gradschool@cuhk.edu.hk\" style=\"color: rgb(0, 150, 201);\">gradschool@cuhk.edu.hk</a>).',\n",
       "  'q': 'I have already completed all the required courses. Am I a \"graduate\" of the University? Can I apply for the alumni library services?'},\n",
       " {'a': 'All degree graduates will automatically become members of the \"CUHK Convocation\". For the objectives and activities of the \"CUHK Convocation\", please visit the <a href=\"http://www.alumni.cuhk.edu.hk/convocation/eng/\" style=\"color: rgb(0, 150, 201);\" target=\"_blank\">CUHK Convocation webpage</a>.<br/>\\n\\tTo enhance the connection among alumni of different Colleges and Schools, the Federation of Alumni Associations of CUHK (FAA) is set up consisting of the Alumni Associations of Chung Chi College, New Asia College, United College, Shaw College and School of Education, etc. as basic members and the Alumni Association of Part-time Degree Programme as an affiliate member. Members of any of the above Alumni Associations are also the members of FAA. Please visit <a href=\"http://www.alumni.cuhk.edu.hk/faa/\" style=\"color: rgb(0, 150, 201);\" target=\"_blank\">FAA webpage</a> for further details.<br/>\\n\\tCurrently, there are over 100 CU alumni associations established in Hong Kong, China and other parts of the world. They are organized by college, major, profession or interest which together form a CUHK alumni network worldwide.<br/>\\n\\tNew alumni are most welcome to join the alumni associations of their interest and take part in their activities. Through participation in these alumni bodies, you will not only be able to maintain your linkage with fellow classmates and alumni, but also expand your personal network which will in turn benefit your further development in life. Please visit <a href=\"associations\" style=\"color: rgb(0, 150, 201);\" target=\"_blank\">Alumni Organization webpage</a> for details.',\n",
       "  'q': 'What are the alumni bodies which alumni can join?'},\n",
       " {'a': 'For names and contact officers of all CU alumni associations around the world, please visit <a href=\"associations/region/offshore\" style=\"color: rgb(0, 150, 201);\" target=\"_blank\">Alumni Organization webpage</a>.',\n",
       "  'q': 'I am going to live / work / study abroad, how can I know if there is any alumni association with which I can get in touch?'},\n",
       " {'a': 'Please visit <a href=\"https://portal.cuhk.edu.hk/\" style=\"color: rgb(0, 150, 201);\" target=\"_blank\">MyCUHK</a> for details and sign up for the free and convenient service.',\n",
       "  'q': 'How to get a free lifetime Alumni Email Forwarding Address?'},\n",
       " {'a': 'No matter where you are, with your email and mailing address, Alumni Affairs Office can send you the latest copy of \"CU Alumni\" magazine and alumni e-newsletter \"Alumni Matters\", and keep you informed of the latest news and activities of all CU alumni associations and the University.<br/>\\n\\tDo let us know by updating your personal information through <a href=\"https://portal.cuhk.edu.hk/\" style=\"color: rgb(0, 150, 201);\" target=\"_blank\">MyCUHK</a>.',\n",
       "  'q': 'Why should I inform Alumni Affairs Office of my email and mailing address?'},\n",
       " {'a': 'For graduates of undergraduate programme, please visit:<br/>\\n<a href=\"http://www.res.cuhk.edu.hk/en-gb/applications/graduates-of-full-time-undergraduate-programmes\" style=\"color: rgb(0, 150, 201);\" target=\"_blank\">http://www.res.cuhk.edu.hk/en-gb/applications/graduates-of-full-time-undergraduate-programmes</a><br/>\\n\\tFor graduates of postgraduate programme, please visit:<br/>\\n<a href=\"https://www.gs.cuhk.edu.hk/page/RequestOfficialDocuments\" style=\"color: rgb(0, 150, 201);\" target=\"_blank\">https://www.gs.cuhk.edu.hk/page/RequestOfficialDocuments</a>',\n",
       "  'q': 'How can I get a transcript?'},\n",
       " {'a': 'You are welcome to contribute news to \"CU Alumni\" magazine.',\n",
       "  'q': 'How can I share my news with alumni?'},\n",
       " {'a': 'Thank you for your consideration of making a gift to your alma mater. Alumni may make your donation <a href=\"https://cloud.itsc.cuhk.edu.hk/forms/forms/35.aspx\" style=\"color: rgb(0, 150, 201);\" target=\"_blank\">online</a> or complete and return the <a href=\"http://alumni.cuhk.edu.hk/assets/media/donation.pdf\" style=\"color: rgb(0, 150, 201);\" target=\"_blank\">donation form</a> to show that you CARE!',\n",
       "  'q': 'How can I make a gift to CU?'},\n",
       " {'a': '<a href=\"https://portal.cuhk.edu.hk/\" style=\"color: rgb(0, 150, 201);\" target=\"_blank\">MyCUHK</a> is an online platform for alumni, staff and students to access campus news and a wide range of online services include updating personal contact details, submitting online service applications and registering for University\\'s alumni events.<br/>\\n\\tPlease visit the <a href=\"https://portal.cuhk.edu.hk/\" style=\"color: rgb(0, 150, 201);\" target=\"_blank\">MyCUHK</a> for details and log in.',\n",
       "  'q': 'What is <a href=\"https://portal.cuhk.edu.hk/\" style=\"color: rgb(0, 150, 201);\" target=\"_blank\">MyCUHK</a>? What kind of services does it provide?'},\n",
       " {'a': 'Alumni are required to login <a href=\"https://portal.cuhk.edu.hk/\" style=\"color: rgb(0, 150, 201);\" target=\"_blank\">MyCUHK</a> with their Alumni ID and the <a href=\"https://portal.cuhk.edu.hk/\" style=\"color: rgb(0, 150, 201);\" target=\"_blank\">MyCUHK</a> password.',\n",
       "  'q': 'What are required to login <a href=\"https://portal.cuhk.edu.hk/\" style=\"color: rgb(0, 150, 201);\" target=\"_blank\">MyCUHK</a>?'},\n",
       " {'a': 'Beginning from October 2010, every alumnus of the University has been assigned with a 10-digit Alumni ID which is an important identification number and will be widely used in online systems of the University requiring authentication, including the <a href=\"https://portal.cuhk.edu.hk/\" style=\"color: rgb(0, 150, 201);\" target=\"_blank\">MyCUHK</a> online platform. When a CUHK graduate pursues another degree at the University, his/her Alumni ID will also serve as his/her Student ID. Alumni who graduated after October 2010 should use their 10-digit student ID as their Alumni ID.',\n",
       "  'q': 'What is Alumni ID?'},\n",
       " {'a': 'You can acquire the number from the <a href=\"https://portal.cuhk.edu.hk/\" style=\"color: rgb(0, 150, 201);\" target=\"_blank\">MyCUHK</a> website (please <a href=\"http://www.alumni.cuhk.edu.hk/MyCUHK/InquireAlumniID.html\" style=\"color: rgb(0, 150, 201);\" target=\"_blank\">visit here</a> for more details).',\n",
       "  'q': 'How can I get my Alumni ID?'},\n",
       " {'a': 'Please visit <a href=\"https://portal.cuhk.edu.hk/\" style=\"color: rgb(0, 150, 201);\" target=\"_blank\">MyCUHK</a> and input your HKID number and graduation information in the front page of the MyCUHK platform to acquire your lost/ forgotten Alumni ID (please <a href=\"http://www.alumni.cuhk.edu.hk/MyCUHK/InquireAlumniID.html\" style=\"color: rgb(0, 150, 201);\" target=\"_blank\">visit here</a> for more details). In case your HKID information is not available for the request to be processed automatically, please contact the Alumni Affairs Office ( <a href=\"mailto:mycuhk_alumni@cuhk.edu.hk\" style=\"color: rgb(0, 150, 201);\">mycuhk_alumni@cuhk.edu.hk</a>) to provide your graduation certificate and identification document for processing the request.',\n",
       "  'q': 'How do I retrieve my Alumni ID if I have lost it?'},\n",
       " {'a': 'The Alumni ID is a life-long identification number assigned to individual alumni and cannot be changed.',\n",
       "  'q': 'Can I change my Alumni ID?'},\n",
       " {'a': 'To login MyCUHK, you are required to input your Alumni ID as well as the <a href=\"https://portal.cuhk.edu.hk/\" style=\"color: rgb(0, 150, 201);\" target=\"_blank\">MyCUHK</a> Password. Alumni have to initialize their account by setting up his/her <a href=\"https://portal.cuhk.edu.hk/\" style=\"color: rgb(0, 150, 201);\" target=\"_blank\">MyCUHK</a> Password at the front page of <a href=\"https://portal.cuhk.edu.hk/\" style=\"color: rgb(0, 150, 201);\" target=\"_blank\">MyCUHK</a> (please <a href=\"http://www.alumni.cuhk.edu.hk/MyCUHK/ResetPassword.html\" style=\"color: rgb(0, 150, 201);\" target=\"_blank\">visit here</a> for more details). Alumni may also change his/her <a href=\"https://portal.cuhk.edu.hk/\" style=\"color: rgb(0, 150, 201);\" target=\"_blank\">MyCUHK</a> password at the MyCUHK platform.',\n",
       "  'q': 'What is MyCUHK Password?'},\n",
       " {'a': 'You can receive a password reset email to change your password after inputting the required graduation information and valid email address at the Alumni Account Management page of <a href=\"https://portal.cuhk.edu.hk/\" style=\"color: rgb(0, 150, 201);\" target=\"_blank\">MyCUHK</a> (please <a href=\"http://www.alumni.cuhk.edu.hk/MyCUHK/ResetPassword.html\" style=\"color: rgb(0, 150, 201);\" target=\"_blank\">visit here</a> for more details).',\n",
       "  'q': 'What if I have forgotten my MyCUHK password?'},\n",
       " {'a': 'You can login <a href=\"https://portal.cuhk.edu.hk/\" style=\"color: rgb(0, 150, 201);\" target=\"_blank\">MyCUHK</a> and change the password online.',\n",
       "  'q': 'How to change my <a href=\"https://portal.cuhk.edu.hk/\" style=\"color: rgb(0, 150, 201);\" target=\"_blank\">MyCUHK</a> password?'},\n",
       " {'a': 'Students, whether or not they are alumni, should use the CWEM password to login. You may decide whether or not to keep your CWEM as your <a href=\"https://portal.cuhk.edu.hk/\" style=\"color: rgb(0, 150, 201);\" target=\"_blank\">MyCUHK</a> Password after you graduate.',\n",
       "  'q': 'I am a graduate of the University and also a current student. Do I need to set up a new <a href=\"https://portal.cuhk.edu.hk/\" style=\"color: rgb(0, 150, 201);\" target=\"_blank\">MyCUHK</a> password to login <a href=\"https://portal.cuhk.edu.hk/\" style=\"color: rgb(0, 150, 201);\" target=\"_blank\">MyCUHK</a>? Or should I use my CWEM password to login?'},\n",
       " {'a': 'The personal information that can be viewed/ updated includes names, addresses, phone &amp; fax numbers, email addresses and work experience.',\n",
       "  'q': 'Can I view /update my personal information in MyPage?'},\n",
       " {'a': '<a href=\"https://portal.cuhk.edu.hk/\" style=\"color: rgb(0, 150, 201);\" target=\"_blank\">MyCUHK</a> can run on most commonly used browsers such as Microsoft Internet Explorer, Mozilla Firefox and Apple Safari, with Microsoft Internet Explorer 6.x/7/x being the preferred platform with full support.',\n",
       "  'q': 'What is the browser requirement for<a href=\"https://portal.cuhk.edu.hk/\" style=\"color: rgb(0, 150, 201);\" target=\"_blank\">MyCUHK</a>?'},\n",
       " {'a': 'The new <a href=\"https://portal.cuhk.edu.hk/\" style=\"color: rgb(0, 150, 201);\" target=\"_blank\">MyCUHK</a> website uses root security issued by the Hong Kong Post to deliver secured website content. This root certificate is automatically trusted by Microsoft Internet Explorer 6 or higher. If you use other browsers, you are advised to install Hong Kong Post Root Certificate in order to operate smoothly without the security certificate warnings.',\n",
       "  'q': 'What is the Root security certificate requirement for the new <a href=\"https://portal.cuhk.edu.hk/\" style=\"color: rgb(0, 150, 201);\" target=\"_blank\">MyCUHK</a>?'}]"
      ]
     },
     "execution_count": 39,
     "metadata": {},
     "output_type": "execute_result"
    }
   ],
   "source": [
    "result = []\n",
    "for li in soup.select('li'):\n",
    "    a = li.select('[name]')   # not find('a') coz there are other links\n",
    "    if len(a) > 0:\n",
    "        a[0].extract()  # remove a\n",
    "    html = li.decode_contents()  # innerHTML\n",
    "    \n",
    "    segments = html.split('<br/>')\n",
    "    \n",
    "    q = segments[0].strip()\n",
    "    \n",
    "    a = '<br/>'.join(segments[1:]).strip()\n",
    "    result.append({\n",
    "        'q': q,\n",
    "        'a': a,\n",
    "    })\n",
    "\n",
    "zh = result\n",
    "result"
   ]
  },
  {
   "cell_type": "code",
   "execution_count": 40,
   "metadata": {},
   "outputs": [],
   "source": [
    "with open('data/alumni-cuhk.json','w') as f:\n",
    "    json.dump([en, zh],f)"
   ]
  },
  {
   "cell_type": "code",
   "execution_count": null,
   "metadata": {},
   "outputs": [],
   "source": []
  },
  {
   "cell_type": "markdown",
   "metadata": {},
   "source": [
    "\n",
    "    \n",
    "### 4. Python + Beautiful Soup (Multiple-page)\n",
    "\n",
    "    - Useful when there are many QA pairs, BUT scattered among different pages \n",
    "    - e.g. https://www.cathaypacific.com/cx/en_HK/about-us/contact-us/faqs.html\n",
    "    \n",
    "    "
   ]
  },
  {
   "cell_type": "markdown",
   "metadata": {},
   "source": [
    "#### Example\n",
    "\n",
    "- url: https://www.cathaypacific.com/cx/en_HK/about-us/contact-us/faqs.html\n"
   ]
  },
  {
   "cell_type": "code",
   "execution_count": 3,
   "metadata": {},
   "outputs": [],
   "source": []
  },
  {
   "cell_type": "code",
   "execution_count": 41,
   "metadata": {},
   "outputs": [],
   "source": [
    "seed = 'https://www.cathaypacific.com/cx/en_HK/about-us/contact-us/faqs.html'\n",
    "html = fetch_url(seed)\n",
    "soup = bs4(html)"
   ]
  },
  {
   "cell_type": "code",
   "execution_count": null,
   "metadata": {},
   "outputs": [],
   "source": []
  },
  {
   "cell_type": "code",
   "execution_count": 42,
   "metadata": {
    "scrolled": true
   },
   "outputs": [
    {
     "data": {
      "text/plain": [
       "{'http://www.cathaypacific.com/cx/en_HK/about-us/contact-us/faqs/baggage-information/baggage-allowance.html',\n",
       " 'https://www.cathaypacific.com/cx/en_HK/about-us/contact-us/faqs/baggage-information/baggage-allowance.html',\n",
       " 'https://www.cathaypacific.com/cx/en_HK/about-us/contact-us/faqs/baggage-information/carriage-of-lithium-battery-as-baggage.html',\n",
       " 'https://www.cathaypacific.com/cx/en_HK/about-us/contact-us/faqs/baggage-information/carry-on-baggage.html',\n",
       " 'https://www.cathaypacific.com/cx/en_HK/about-us/contact-us/faqs/baggage-information/check-in-baggage.html',\n",
       " 'https://www.cathaypacific.com/cx/en_HK/about-us/contact-us/faqs/baggage-information/liability.html',\n",
       " 'https://www.cathaypacific.com/cx/en_HK/about-us/contact-us/faqs/baggage-information/prepaid-extra-baggage.html',\n",
       " 'https://www.cathaypacific.com/cx/en_HK/about-us/contact-us/faqs/check-in/about-online-check-in.html',\n",
       " 'https://www.cathaypacific.com/cx/en_HK/about-us/contact-us/faqs/check-in/after-checking-in-online.html',\n",
       " 'https://www.cathaypacific.com/cx/en_HK/about-us/contact-us/faqs/check-in/check-in-kiosk.html',\n",
       " 'https://www.cathaypacific.com/cx/en_HK/about-us/contact-us/faqs/check-in/self-print-boarding-pass.html',\n",
       " 'https://www.cathaypacific.com/cx/en_HK/about-us/contact-us/faqs/check-in/through-check-to-final-destination-on-separate-tickets.html',\n",
       " 'https://www.cathaypacific.com/cx/en_HK/about-us/contact-us/faqs/cxpecials/cxpecials.html',\n",
       " 'https://www.cathaypacific.com/cx/en_HK/about-us/contact-us/faqs/fares-and-tickets/airfares.html',\n",
       " 'https://www.cathaypacific.com/cx/en_HK/about-us/contact-us/faqs/fares-and-tickets/corporate-travel-solutions-hk.html',\n",
       " 'https://www.cathaypacific.com/cx/en_HK/about-us/contact-us/faqs/fares-and-tickets/tickets.html',\n",
       " 'https://www.cathaypacific.com/cx/en_HK/about-us/contact-us/faqs/fares-and-tickets/travel-packages.html',\n",
       " 'https://www.cathaypacific.com/cx/en_HK/about-us/contact-us/faqs/flight-messaging/activated.html',\n",
       " 'https://www.cathaypacific.com/cx/en_HK/about-us/contact-us/faqs/flight-messaging/flight-messaging.html',\n",
       " 'https://www.cathaypacific.com/cx/en_HK/about-us/contact-us/faqs/flight-messaging/google-now.html',\n",
       " 'https://www.cathaypacific.com/cx/en_HK/about-us/contact-us/faqs/flight-messaging/subscribe.html',\n",
       " 'https://www.cathaypacific.com/cx/en_HK/about-us/contact-us/faqs/frequent-flyers/registered-accounts.html',\n",
       " 'https://www.cathaypacific.com/cx/en_HK/about-us/contact-us/faqs/frequent-flyers/the-marco-polo-club-and-asia-miles.html',\n",
       " 'https://www.cathaypacific.com/cx/en_HK/about-us/contact-us/faqs/inflight-services/inflight-services.html',\n",
       " 'https://www.cathaypacific.com/cx/en_HK/about-us/contact-us/faqs/manage-booking/about-manage-booking.html',\n",
       " 'https://www.cathaypacific.com/cx/en_HK/about-us/contact-us/faqs/manage-booking/booking-details.html',\n",
       " 'https://www.cathaypacific.com/cx/en_HK/about-us/contact-us/faqs/manage-booking/changes-cancellation-refund.html',\n",
       " 'https://www.cathaypacific.com/cx/en_HK/about-us/contact-us/faqs/manage-booking/contact-details.html',\n",
       " 'https://www.cathaypacific.com/cx/en_HK/about-us/contact-us/faqs/manage-booking/eticket-receipts.html',\n",
       " 'https://www.cathaypacific.com/cx/en_HK/about-us/contact-us/faqs/manage-booking/seat-requests.html',\n",
       " 'https://www.cathaypacific.com/cx/en_HK/about-us/contact-us/faqs/manage-booking/special-meal-services-requests.html',\n",
       " 'https://www.cathaypacific.com/cx/en_HK/about-us/contact-us/faqs/manage-booking/travel-documents.html',\n",
       " 'https://www.cathaypacific.com/cx/en_HK/about-us/contact-us/faqs/mobile-app/flight-notifications.html',\n",
       " 'https://www.cathaypacific.com/cx/en_HK/about-us/contact-us/faqs/mobile-app/general.html',\n",
       " 'https://www.cathaypacific.com/cx/en_HK/about-us/contact-us/faqs/mobile-services/mobile-boarding-pass.html',\n",
       " 'https://www.cathaypacific.com/cx/en_HK/about-us/contact-us/faqs/mobile-services/mobile-check-in.html',\n",
       " 'https://www.cathaypacific.com/cx/en_HK/about-us/contact-us/faqs/mobile-services/passbook.html',\n",
       " 'https://www.cathaypacific.com/cx/en_HK/about-us/contact-us/faqs/online-booking-award-travel-redemption/change-booking.html',\n",
       " 'https://www.cathaypacific.com/cx/en_HK/about-us/contact-us/faqs/online-booking-award-travel-redemption/general-questions.html',\n",
       " 'https://www.cathaypacific.com/cx/en_HK/about-us/contact-us/faqs/online-booking-ticket-purchase/changes-cancellation-and-refund.html',\n",
       " 'https://www.cathaypacific.com/cx/en_HK/about-us/contact-us/faqs/online-booking-ticket-purchase/extra-legroom-seat-bookings.html',\n",
       " 'https://www.cathaypacific.com/cx/en_HK/about-us/contact-us/faqs/online-booking-ticket-purchase/features.html',\n",
       " 'https://www.cathaypacific.com/cx/en_HK/about-us/contact-us/faqs/online-booking-ticket-purchase/others.html',\n",
       " 'https://www.cathaypacific.com/cx/en_HK/about-us/contact-us/faqs/online-booking-ticket-purchase/payment-and-ticket-delivery.html',\n",
       " 'https://www.cathaypacific.com/cx/en_HK/about-us/contact-us/faqs/online-booking-ticket-purchase/reserve-your-seat.html',\n",
       " 'https://www.cathaypacific.com/cx/en_HK/about-us/contact-us/faqs/our-airline/fly-greener.html',\n",
       " 'https://www.cathaypacific.com/cx/en_HK/about-us/contact-us/faqs/post-flight-service/flight-certificate-request.html',\n",
       " 'https://www.cathaypacific.com/cx/en_HK/about-us/contact-us/faqs/shop-duty-free/asia-miles-redemption-for-inflight-sales.html',\n",
       " 'https://www.cathaypacific.com/cx/en_HK/about-us/contact-us/faqs/shop-duty-free/duty-free-preflight-order.html',\n",
       " 'https://www.cathaypacific.com/cx/en_HK/about-us/contact-us/faqs/shop-duty-free/online-shop-cxcitement.html'}"
      ]
     },
     "execution_count": 42,
     "metadata": {},
     "output_type": "execute_result"
    }
   ],
   "source": [
    "seed = 'https://www.cathaypacific.com/cx/en_HK/about-us/contact-us/faqs.html'\n",
    "html = fetch_url(seed)\n",
    "soup = bs4(html)\n",
    "urls = set()\n",
    "for e in soup.select('.content-block [href]'):\n",
    "    url = e['href']\n",
    "    url = urllib.parse.urljoin(seed,url).split('#')[0].split('?')[0]  # we don't need path after # or ?\n",
    "    if '/faqs/' in url:\n",
    "        urls.add(url)\n",
    "urls"
   ]
  },
  {
   "cell_type": "code",
   "execution_count": 10,
   "metadata": {
    "scrolled": true
   },
   "outputs": [
    {
     "data": {
      "text/plain": [
       "{'https://www.cathaypacific.com/cx/en_HK/about-us/contact-us/faqs/baggage-information/baggage-allowance.html',\n",
       " 'https://www.cathaypacific.com/cx/en_HK/about-us/contact-us/faqs/baggage-information/carriage-of-lithium-battery-as-baggage.html',\n",
       " 'https://www.cathaypacific.com/cx/en_HK/about-us/contact-us/faqs/baggage-information/carry-on-baggage.html',\n",
       " 'https://www.cathaypacific.com/cx/en_HK/about-us/contact-us/faqs/baggage-information/check-in-baggage.html',\n",
       " 'https://www.cathaypacific.com/cx/en_HK/about-us/contact-us/faqs/baggage-information/liability.html',\n",
       " 'https://www.cathaypacific.com/cx/en_HK/about-us/contact-us/faqs/baggage-information/prepaid-extra-baggage.html',\n",
       " 'https://www.cathaypacific.com/cx/en_HK/about-us/contact-us/faqs/check-in/about-online-check-in.html',\n",
       " 'https://www.cathaypacific.com/cx/en_HK/about-us/contact-us/faqs/check-in/after-checking-in-online.html',\n",
       " 'https://www.cathaypacific.com/cx/en_HK/about-us/contact-us/faqs/check-in/check-in-kiosk.html',\n",
       " 'https://www.cathaypacific.com/cx/en_HK/about-us/contact-us/faqs/check-in/self-print-boarding-pass.html',\n",
       " 'https://www.cathaypacific.com/cx/en_HK/about-us/contact-us/faqs/check-in/through-check-to-final-destination-on-separate-tickets.html',\n",
       " 'https://www.cathaypacific.com/cx/en_HK/about-us/contact-us/faqs/cxpecials/cxpecials.html',\n",
       " 'https://www.cathaypacific.com/cx/en_HK/about-us/contact-us/faqs/fares-and-tickets/airfares.html',\n",
       " 'https://www.cathaypacific.com/cx/en_HK/about-us/contact-us/faqs/fares-and-tickets/corporate-travel-solutions-hk.html',\n",
       " 'https://www.cathaypacific.com/cx/en_HK/about-us/contact-us/faqs/fares-and-tickets/tickets.html',\n",
       " 'https://www.cathaypacific.com/cx/en_HK/about-us/contact-us/faqs/fares-and-tickets/travel-packages.html',\n",
       " 'https://www.cathaypacific.com/cx/en_HK/about-us/contact-us/faqs/flight-messaging/activated.html',\n",
       " 'https://www.cathaypacific.com/cx/en_HK/about-us/contact-us/faqs/flight-messaging/flight-messaging.html',\n",
       " 'https://www.cathaypacific.com/cx/en_HK/about-us/contact-us/faqs/flight-messaging/google-now.html',\n",
       " 'https://www.cathaypacific.com/cx/en_HK/about-us/contact-us/faqs/flight-messaging/subscribe.html',\n",
       " 'https://www.cathaypacific.com/cx/en_HK/about-us/contact-us/faqs/frequent-flyers/registered-accounts.html',\n",
       " 'https://www.cathaypacific.com/cx/en_HK/about-us/contact-us/faqs/frequent-flyers/the-marco-polo-club-and-asia-miles.html',\n",
       " 'https://www.cathaypacific.com/cx/en_HK/about-us/contact-us/faqs/inflight-services/inflight-services.html',\n",
       " 'https://www.cathaypacific.com/cx/en_HK/about-us/contact-us/faqs/manage-booking/about-manage-booking.html',\n",
       " 'https://www.cathaypacific.com/cx/en_HK/about-us/contact-us/faqs/manage-booking/booking-details.html',\n",
       " 'https://www.cathaypacific.com/cx/en_HK/about-us/contact-us/faqs/manage-booking/changes-cancellation-refund.html',\n",
       " 'https://www.cathaypacific.com/cx/en_HK/about-us/contact-us/faqs/manage-booking/contact-details.html',\n",
       " 'https://www.cathaypacific.com/cx/en_HK/about-us/contact-us/faqs/manage-booking/eticket-receipts.html',\n",
       " 'https://www.cathaypacific.com/cx/en_HK/about-us/contact-us/faqs/manage-booking/seat-requests.html',\n",
       " 'https://www.cathaypacific.com/cx/en_HK/about-us/contact-us/faqs/manage-booking/special-meal-services-requests.html',\n",
       " 'https://www.cathaypacific.com/cx/en_HK/about-us/contact-us/faqs/manage-booking/travel-documents.html',\n",
       " 'https://www.cathaypacific.com/cx/en_HK/about-us/contact-us/faqs/mobile-app/flight-notifications.html',\n",
       " 'https://www.cathaypacific.com/cx/en_HK/about-us/contact-us/faqs/mobile-app/general.html',\n",
       " 'https://www.cathaypacific.com/cx/en_HK/about-us/contact-us/faqs/mobile-services/mobile-boarding-pass.html',\n",
       " 'https://www.cathaypacific.com/cx/en_HK/about-us/contact-us/faqs/mobile-services/mobile-check-in.html',\n",
       " 'https://www.cathaypacific.com/cx/en_HK/about-us/contact-us/faqs/mobile-services/passbook.html',\n",
       " 'https://www.cathaypacific.com/cx/en_HK/about-us/contact-us/faqs/online-booking-award-travel-redemption/change-booking.html',\n",
       " 'https://www.cathaypacific.com/cx/en_HK/about-us/contact-us/faqs/online-booking-award-travel-redemption/general-questions.html',\n",
       " 'https://www.cathaypacific.com/cx/en_HK/about-us/contact-us/faqs/online-booking-ticket-purchase/changes-cancellation-and-refund.html',\n",
       " 'https://www.cathaypacific.com/cx/en_HK/about-us/contact-us/faqs/online-booking-ticket-purchase/extra-legroom-seat-bookings.html',\n",
       " 'https://www.cathaypacific.com/cx/en_HK/about-us/contact-us/faqs/online-booking-ticket-purchase/features.html',\n",
       " 'https://www.cathaypacific.com/cx/en_HK/about-us/contact-us/faqs/online-booking-ticket-purchase/others.html',\n",
       " 'https://www.cathaypacific.com/cx/en_HK/about-us/contact-us/faqs/online-booking-ticket-purchase/payment-and-ticket-delivery.html',\n",
       " 'https://www.cathaypacific.com/cx/en_HK/about-us/contact-us/faqs/online-booking-ticket-purchase/reserve-your-seat.html',\n",
       " 'https://www.cathaypacific.com/cx/en_HK/about-us/contact-us/faqs/our-airline/fly-greener.html',\n",
       " 'https://www.cathaypacific.com/cx/en_HK/about-us/contact-us/faqs/post-flight-service/flight-certificate-request.html',\n",
       " 'https://www.cathaypacific.com/cx/en_HK/about-us/contact-us/faqs/shop-duty-free/asia-miles-redemption-for-inflight-sales.html',\n",
       " 'https://www.cathaypacific.com/cx/en_HK/about-us/contact-us/faqs/shop-duty-free/duty-free-preflight-order.html',\n",
       " 'https://www.cathaypacific.com/cx/en_HK/about-us/contact-us/faqs/shop-duty-free/online-shop-cxcitement.html'}"
      ]
     },
     "execution_count": 10,
     "metadata": {},
     "output_type": "execute_result"
    }
   ],
   "source": [
    "# Observe some duplicated urls... Below is the corrected version\n",
    "\n",
    "seed = 'https://www.cathaypacific.com/cx/en_HK/about-us/contact-us/faqs.html'\n",
    "html = fetch_url(seed)\n",
    "soup = bs4(html)\n",
    "urls = set()\n",
    "for e in soup.select('.content-block [href]'):\n",
    "    url = e['href']\n",
    "    url = urllib.parse.urljoin(seed,url).split('#')[0].split('?')[0]  # we don't need path after # or ?\n",
    "    if '/faqs/' in url:\n",
    "        if url.startswith('http://'):\n",
    "            continue\n",
    "        urls.add(url)\n",
    "        \n",
    "urls"
   ]
  },
  {
   "cell_type": "code",
   "execution_count": 47,
   "metadata": {},
   "outputs": [
    {
     "name": "stdout",
     "output_type": "stream",
     "text": [
      "https://www.cathaypacific.com/cx/en_HK/about-us/contact-us/faqs/check-in/self-print-boarding-pass.html\n"
     ]
    }
   ],
   "source": [
    "for url in urls:\n",
    "    break\n",
    "print(url)"
   ]
  },
  {
   "cell_type": "code",
   "execution_count": 44,
   "metadata": {},
   "outputs": [],
   "source": [
    "# Try out the first url\n",
    "html = fetch_url(url, timeout=(4,8))"
   ]
  },
  {
   "cell_type": "code",
   "execution_count": null,
   "metadata": {},
   "outputs": [],
   "source": []
  },
  {
   "cell_type": "code",
   "execution_count": 46,
   "metadata": {
    "scrolled": true
   },
   "outputs": [
    {
     "data": {
      "text/plain": [
       "[{'a': '<p>After you checked in online, you can print your boarding pass with your own printer at home, the office or anywhere with access to the internet. By printing your own boarding pass, you will save time at the airport and speed up your journey. If you only have hand baggage with you, you can go straight to security. If you have baggage to check in, you can just proceed directly to the Self Check-In Bag Drop Counter.</p><p></p>',\n",
       "  'q': 'What is Self-Print Boarding Pass?'},\n",
       " {'a': '<p style=\"font-family: tahoma , arial , helvetica , sans-serif; font-size: 12.0px;\">All passengers and their travel companions on Cathay Pacific and Cathay Dragon flights who have checked in online for flights departing from<table border=\"1\" cellpadding=\"1\" cellspacing=\"0\" class=\"table-responsive\" width=\"100%\">\\n<tbody><tr><td>Australia</td>\\n<td>Adelaide (ADL), Brisbane (BNE), Cairns (CNS), Melbourne (MEL), Perth (PER), Sydney (SYD)</td>\\n</tr><tr><td>Bahrain</td>\\n<td>Bahrain (BAH)</td>\\n</tr><tr><td>Belgium</td>\\n<td>Brussels (BRU)</td>\\n</tr><tr><td>Cambodia</td>\\n<td>Phnom Penh (PNH)</td>\\n</tr><tr><td>Canada</td>\\n<td>Totonto (YYZ), Vancouver (YVR)</td>\\n</tr><tr><td>Mainland China</td>\\n<td>Beijing (PEK), Changsha (CSX), Chengdu (CTU), Guangzhou (CAN), Haikou (HAK), Shanghai (SHA), Shanghai (PVG), Wuhan (WUH)</td>\\n</tr><tr><td>France</td>\\n<td>Paris (CDG)</td>\\n</tr><tr><td>Germany</td>\\n<td>Frankfurt (FRA)</td>\\n</tr><tr><td>Hong Kong SAR</td>\\n<td>Hong Kong (HKG)</td>\\n</tr><tr><td>Ireland</td>\\n<td>Dublin (DUB)</td>\\n</tr><tr><td>India</td>\\n<td>Bengaluru (Bangalore) (BLR), Chennai (MAA), Delhi (DEL), Hyderabad (HYD), Kolkata (CCU), Mumbai (BOM)</td>\\n</tr><tr><td>Indonesia</td>\\n<td>Denpasar (Bali) (DPS), Surabaya (SUB)</td>\\n</tr><tr><td>Israel</td>\\n<td>Tel Aviv (TLV)</td>\\n</tr><tr><td>Italy</td>\\n<td>Milan (MXP), Rome (FCO)</td>\\n</tr><tr><td>Japan</td>\\n<td>Fukuoka (FUK), Komatsu (KMQ), Nagoya (NGO), Okinawa (OKA), Osaka (KIX), Sapporo (CTS), Tokyo / Haneda (HND), Tokyo / Narita (NRT)</td>\\n</tr><tr><td>Korea</td>\\n<td>Seoul (ICN)</td>\\n</tr><tr><td>Malaysia</td>\\n<td>Kuala Lumpur (KUL), Penang (PEN)</td>\\n</tr><tr><td>Netherlands</td>\\n<td>Amsterdam (AMS)</td>\\n</tr><tr><td>New Zealand</td>\\n<td>Auckland (AKL), Christchurch (CHC)</td>\\n</tr><tr><td>Philippines</td>\\n<td>Cebu (CEB), Manila (MNL)</td>\\n</tr><tr><td>Singapore</td>\\n<td>Singapore (SIN)</td>\\n</tr><tr><td>South Africa</td>\\n<td>Johannesburg (JNB)</td>\\n</tr><tr><td>Sri Lanka</td>\\n<td>Colombo (CMB)</td>\\n</tr><tr><td>Spain</td>\\n<td>Barcelona (BCN), Madrid (MAD)</td>\\n</tr><tr><td>Switzerland</td>\\n<td>Zurich (ZRH)</td>\\n</tr><tr><td>Taiwan China</td>\\n<td>Kaohsiung (KHH), Taichung (RMQ), Taipei (TPE)</td>\\n</tr><tr><td>Thailand</td>\\n<td>Bangkok (BKK), Chiangmai (CNX), Phuket (HKT)</td>\\n</tr><tr><td>United Arab Emirates</td>\\n<td>Dubai (DXB)</td>\\n</tr><tr><td>United Kingdom</td>\\n<td>London / Gatwick (LGW), London / Heathrow (LHR), Manchester (MAN)</td>\\n</tr><tr><td>United States</td>\\n<td>Boston (BOS), Chicago (ORD), Los Angeles (LAX), New York (EWR), New York (JFK), San Francisco (SFO), Seattle (SEA), Washington (IAD)</td>\\n</tr><tr><td>Vietnam</td>\\n<td>Hanoi (HAN), Ho Chi Minh City (SGN)</td>\\n</tr></tbody></table>\\nand including those transiting in Hong Kong, can print a boarding pass online.</p>\\n<p style=\"font-family: tahoma , arial , helvetica , sans-serif; font-size: 12.0px;\">\\xa0</p>\\n<p style=\"font-family: tahoma , arial , helvetica , sans-serif; font-size: 12.0px;\">For example:<br/>\\nIf you are travelling from New York to Hong Kong with an onward connection to Beijing, you can print your Boarding Pass online.</p>\\n<p style=\"font-family: tahoma , arial , helvetica , sans-serif; font-size: 12.0px;\">\\xa0</p>\\n<p style=\"font-family: tahoma , arial , helvetica , sans-serif; font-size: 12.0px;\">Passengers with onward connecting flights from airports other than Hong Kong will not be allowed to print their own boarding pass. Please be reminded that passengers with return flights same day or within 24 hours will be treated as onward connecting flights.</p>\\n<p style=\"font-family: tahoma , arial , helvetica , sans-serif; font-size: 12.0px;\">\\xa0</p>\\n<p style=\"font-family: tahoma , arial , helvetica , sans-serif; font-size: 12.0px;\">For example:</p>\\n<ul style=\"font-family: tahoma , arial , helvetica , sans-serif; font-size: 12.0px;\">\\n<li>If you are travelling from Hong Kong to Taipei with an onward connection to Tokyo, you cannot print your Boarding Pass online.</li>\\n<li>If you are travelling from Hong Kong to Taipei and return to Hong Kong on the same day or within 24 hours, you cannot print your Boarding Pass online.</li>\\n</ul>\\n<p style=\"font-family: tahoma , arial , helvetica , sans-serif; font-size: 12.0px;\">\\xa0</p>\\n<p style=\"font-family: tahoma , arial , helvetica , sans-serif; font-size: 12.0px;\">\\xa0</p>\\n<p style=\"font-family: tahoma , arial , helvetica , sans-serif; font-size: 12.0px;\">We are progressively enabling this feature to flights departing from other ports.</p>\\n<p style=\"font-family: tahoma , arial , helvetica , sans-serif; font-size: 12.0px;\">Please note that the following passengers can check in online but <b>cannot print their own Boarding Pass</b>:</p>\\n<ul style=\"font-family: tahoma , arial , helvetica , sans-serif; font-size: 12.0px;\">\\n<li>Passengers who have purchased tickets with fares applicable for infant</li>\\n<li>Passengers who have purchased air tickets in conjunction with ferry tickets<br/>\\n</li>\\n</ul>\\n<p style=\"font-family: tahoma , arial , helvetica , sans-serif; font-size: 12.0px;\">Passengers travelling to or from Chicago, Los Angeles, New York or San Francisco can only issue Self-Print Boarding Pass / Mobile Boarding Pass within 24 hours prior to the flight departure.</p>',\n",
       "  'q': 'Who can print Self-Print Boarding Pass?'},\n",
       " {'a': '<ul><li>PC with internet access</li><li>Printer with minimum 300dpi resolution</li><li>Paper of A4 or Legal size</li><li>Pop-up blocker is disabled on computer browser.</li></ul><p><b> </b></p><p><b> </b></p>',\n",
       "  'q': 'What do I need to print Self-Print Boarding Pass?'},\n",
       " {'a': '<p><b>Passengers without check-in baggage:</b></p>\\n<ul>\\n<li>Can proceed directly through Security and Immigration and to the Gate</li>\\n<li>Must present their travel documents at the Boarding Gate Service Desk at least 30 minutes prior to departure.</li>\\n</ul>\\n<p><b>Passengers with check-in baggage:</b></p>\\n<ul>\\n<li>Can drop it at a Self Check-In Bag Drop Counter at least 50 minutes before scheduled departure time.</li>\\n<li>If you are\\xa0<b>departing from Beijing, Colombo, Dubai, Kolkata, London Heathrow (LHR), Madrid, Mumbai, New York John F Kennedy (JFK), Shanghai Pudong (PVG) and Tel Aviv</b>, you can drop it at a Self Check-In Bag Drop Counter <b>at least 70 minutes</b>\\xa0prior to departure.</li>\\n</ul>\\n<p><b>Be sure to arrive at the boarding gate at least 30 minutes before the departure time to avoid unnecessary delays. Late passengers will not be accepted and the boarding gate will be closed 10 minutes prior to departure.</b></p>',\n",
       "  'q': 'What must I do when I arrive at the airport?'},\n",
       " {'a': '<p>You can print Boarding Pass for your travel companion if your travel companion is included in the same booking record as yours.</p>',\n",
       "  'q': 'Can I print a Boarding Pass for my travel companion?'},\n",
       " {'a': '<p>Similar to Online Check-In, boarding pass can be printed from 48 hours up to 90 minutes before flight departure.</p><p></p>',\n",
       "  'q': 'What are the earliest and latest times for printing my boarding pass?'},\n",
       " {'a': '<p>Your lounge invitation card will be included in the Self-Print Boarding Pass if you are invited to our lounge. Bring along your Self-Print Boarding Pass and go to the lounge directly.</p><p></p>',\n",
       "  'q': 'Where do I collect my lounge invitation card if I have printed my own boarding pass?'},\n",
       " {'a': '<p>If you fail to print your boarding pass or it is not printed properly, you can return to Online Check-In and try again any time up to 90 minutes before your flight departure time.</p><p><br/>You can also choose, at the airport, to use a Self Check-In Kiosk (where available) to print your boarding pass, or go to one of our Self Check-In Bag Drop Counters to pick up your boarding pass. </p><p></p>',\n",
       "  'q': 'What should I do if I have problems printing my Self-Print Boarding Pass?'},\n",
       " {'a': '<p>Yes. If your boarding pass is damaged or lost, you can return to Online Check-In and reprint your boarding pass any time up to 90 minutes before your flight departure time.</p><p></p>',\n",
       "  'q': 'Can I reprint my Self-Print boarding pass?'},\n",
       " {'a': '<p>You can at the airport reprint your boarding pass at a Self Check-In Kiosk (where available), or go to one of the Self Check-In Bag Drop Counters to pick up your boarding pass.</p><p></p>',\n",
       "  'q': 'What if I print my boarding pass but forget to take it to the airport?'},\n",
       " {'a': '<p>Yes, you can change seats for yourself and your travel companions after printing boarding pass.</p><p><br/>After checking in, Elite members of The Marco Polo Club (Silver tier and above) can change their seats up to three times, and all other passengers can change their seats once. </p><p></p>',\n",
       "  'q': 'Can I change my seat after I have checked in online and printed my boarding pass?'},\n",
       " {'a': '<p>Yes, you <b>must</b> cancel check-in for yourself and your travel companions after printing boarding pass if you do not plan to travel.</p><p><br/>You can cancel check-in with the \"Cancel Check-In\" button on the \"Flight Details\" page or the \"Online Check-In Confirmation\" page at least 60 minutes before departure.<br/><br/>Failure to do so will require you to contact Cathay Pacific to reissue your ticket before future travel is allowed. This may result in re-issuance fees and payment of any fare differences as per the ticket conditions. </p><p></p>',\n",
       "  'q': 'Can I cancel my check-in after I have checked in online and printed my boarding pass?'},\n",
       " {'a': '<p>At the security check point, the airport security officer will match the name on the travel document with the Self-Print Boarding Pass. Any discrepancies found will not be accepted and the passenger will be advised to return to the check-in counter to have a traditional boarding pass issued.</p><p></p>',\n",
       "  'q': 'What happens if someone else picks up the Self-Print Boarding Pass and tries to use it to board the flight?'},\n",
       " {'a': '<p>Due to certain fare types, restrictions or special handling, such as Child, Infant or Unaccompanied Minors who require special handling, passengers may be required to present in person at the counter before boarding pass can be issued to them. Therefore, we are unable to provide to all passengers our Self-Print Boarding Pass service. </p><p></p>',\n",
       "  'q': 'Why are some passengers not eligible to use Self-Print Boarding Pass?'},\n",
       " {'a': '<p>Different airports and carriers have their own security regulations. We are in the process of negotiating with these carriers and airports to ensure that they will accept our Self-Print Boarding Pass at transfer security areas and on board. </p><p></p>',\n",
       "  'q': 'Why is the Self-Print Boarding Pass only available for travelling from point to point only?'}]"
      ]
     },
     "execution_count": 46,
     "metadata": {},
     "output_type": "execute_result"
    }
   ],
   "source": [
    "# Method 1\n",
    "\n",
    "parser = HTMLSchemaParser({\n",
    "    '.panel `items`':[\n",
    "        {\n",
    "        '.panel-heading `q`': 're.sub(r\"\\d+. \", \"\", this.text.strip()).strip()',\n",
    "        '.text.parbase.section `a`': 'this.decode_contents().strip()'\n",
    "        \n",
    "        }\n",
    "    ]\n",
    "})\n",
    "result = parser.parse(html).get('items',[])\n",
    "result"
   ]
  },
  {
   "cell_type": "code",
   "execution_count": 51,
   "metadata": {},
   "outputs": [
    {
     "data": {
      "text/plain": [
       "[{'a': '<p>It is a free service for passengers with a confirmed itinerary to preview the duty-free selection and place orders before flight. Simply browse through the online catalogue, add items to the Shopping Cart, enter flight details, and the ordered goods will be reserved. While onboard our flight attendant will bring passenger the items and collect payment.</p>',\n",
       "  'q': 'What is Preflight Order?'},\n",
       " {'a': '<p>Please visit our <a href=\"/cx/en_HK/latest-offers/shop-duty-free.html\">Preflight Order website</a>, select Customer Service on the left navigation tab, then click on View / Edit Your Order.</p>',\n",
       "  'q': 'I have made a confirmed Preflight Order. How can I change the details (e.g. flight details, personal details, ordered items)?'},\n",
       " {'a': '<p>If the change is made within the acceptable timeframe (i.e. 2 - 21 days before the departure date of the original flight and new flight) via other channels (CX Reservation, travel agent) the change will be reflected in your Preflight Order. However, we suggest customers to double check flight details under this website to ensure that the delivery flight is one that corresponds to their wish.</p>',\n",
       "  'q': 'I have changed my itinerary. Will it be reflected in my confirmed Preflight Order?'},\n",
       " {'a': '<p>Due to space limitation, the maximum number of products for each Preflight Order is 20. The maximum quantity for each product is 20 pieces.</p>',\n",
       "  'q': 'I would like to add more products to my confirmed Preflight Order but failed. Why?'},\n",
       " {'a': '<p>At 48 hours before flight departure, the flight will be closed for uploading of Duty-free items. Once onboard, please inform our cabin crew about your to change your order purchase.</p>',\n",
       "  'q': 'I have a confirmed Preflight Order but am unable to modify the details. Why?'},\n",
       " {'a': '<p>The item may no longer be available at the point of change request, for eg. a de-listed product that is from the previous season. Since we only have limited stock for de-listed items, it is only possible to keep or reduce the confirmed quantity, but not increasing it.</p>',\n",
       "  'q': \"I've made a Preflight Order and would like to increase the quantity of an item but failed. Why?\"},\n",
       " {'a': '<p>Passengers are welcome to purchase on top of the preflight ordered items while on board. However, due to storage limitation, purchase requests during flight are subject to stock availability. In addition, Preflight Order discount or incentives are not applicable to the additional purchase inflight.</p>',\n",
       "  'q': 'During my flight, may I add more products to my confirmed Preflight Order?'},\n",
       " {'a': '<p>Our new catalogue is published on the 1st day of every quarter.</p>',\n",
       "  'q': \"When can I Preflight Order or have a preview of the next issue's catalogue?\"},\n",
       " {'a': '<p>Yes. Our inflight sales computer (handheld machine) enables cabin crew to make a Preflight Order for your ongoing or return flight</p>',\n",
       "  'q': 'Apart from the web, are there other channels where I can make a Preflight Order?'}]"
      ]
     },
     "execution_count": 51,
     "metadata": {},
     "output_type": "execute_result"
    }
   ],
   "source": [
    "# Method 2\n",
    "\n",
    "soup = bs4(html)\n",
    "result = []\n",
    "for e in soup.select('.panel'):\n",
    "    q = e.select('.panel-heading')[0]\n",
    "    a = e.select('.text.parbase.section')[0]\n",
    "    \n",
    "    q = re.sub(r\"\\d+. \", \"\", q.text.strip()).strip()\n",
    "    a = a.decode_contents().strip()\n",
    "    result.append({\n",
    "        'q': q,\n",
    "        'a': a,\n",
    "    })\n",
    "    \n",
    "result"
   ]
  },
  {
   "cell_type": "markdown",
   "metadata": {},
   "source": [
    "#### I found that Cathay Pacific is a multi-lingual website... Below are some scripts to automate the scraping,"
   ]
  },
  {
   "cell_type": "code",
   "execution_count": 48,
   "metadata": {
    "scrolled": true
   },
   "outputs": [
    {
     "name": "stderr",
     "output_type": "stream",
     "text": [
      "  2%|▏         | 1/48 [00:00<00:08,  5.72it/s]"
     ]
    },
    {
     "name": "stdout",
     "output_type": "stream",
     "text": [
      "ja_JP >> ja : 48\n"
     ]
    },
    {
     "name": "stderr",
     "output_type": "stream",
     "text": [
      " 96%|█████████▌| 46/48 [00:19<00:01,  1.26it/s]"
     ]
    },
    {
     "name": "stdout",
     "output_type": "stream",
     "text": [
      "'NoneType' object has no attribute 'text'\n",
      "https://www.cathaypacific.com/cx/ja_JP/about-us/contact-us/faqs/online-booking-award-travel-redemption/change-booking.html\n"
     ]
    },
    {
     "name": "stderr",
     "output_type": "stream",
     "text": [
      "100%|██████████| 48/48 [00:21<00:00,  1.05it/s]"
     ]
    },
    {
     "name": "stdout",
     "output_type": "stream",
     "text": [
      "'NoneType' object has no attribute 'text'\n",
      "https://www.cathaypacific.com/cx/ja_JP/about-us/contact-us/faqs/online-booking-award-travel-redemption/general-questions.html\n"
     ]
    },
    {
     "name": "stderr",
     "output_type": "stream",
     "text": [
      "\n",
      "  0%|          | 0/48 [00:00<?, ?it/s]"
     ]
    },
    {
     "name": "stdout",
     "output_type": "stream",
     "text": [
      "zh_TW >> zh-TW : 48\n"
     ]
    },
    {
     "name": "stderr",
     "output_type": "stream",
     "text": [
      "  4%|▍         | 2/48 [00:02<01:20,  1.76s/it]"
     ]
    },
    {
     "name": "stdout",
     "output_type": "stream",
     "text": [
      "'NoneType' object has no attribute 'text'\n",
      "https://www.cathaypacific.com/cx/zh_TW/about-us/contact-us/faqs/online-booking-award-travel-redemption/change-booking.html\n"
     ]
    },
    {
     "name": "stderr",
     "output_type": "stream",
     "text": [
      " 62%|██████▎   | 30/48 [00:17<00:19,  1.06s/it]"
     ]
    },
    {
     "name": "stdout",
     "output_type": "stream",
     "text": [
      "'NoneType' object has no attribute 'text'\n",
      "https://www.cathaypacific.com/cx/zh_TW/about-us/contact-us/faqs/online-booking-award-travel-redemption/general-questions.html\n"
     ]
    },
    {
     "name": "stderr",
     "output_type": "stream",
     "text": [
      "100%|██████████| 48/48 [00:23<00:00,  6.27it/s]\n",
      "  2%|▏         | 1/49 [00:00<00:06,  7.18it/s]"
     ]
    },
    {
     "name": "stdout",
     "output_type": "stream",
     "text": [
      "sc_CN >> cn : 49\n"
     ]
    },
    {
     "name": "stderr",
     "output_type": "stream",
     "text": [
      " 78%|███████▊  | 38/49 [00:20<00:11,  1.06s/it]"
     ]
    },
    {
     "name": "stdout",
     "output_type": "stream",
     "text": [
      "'NoneType' object has no attribute 'text'\n",
      "https://www.cathaypacific.com/cx/sc_CN/about-us/contact-us/faqs/online-booking-award-travel-redemption/general-questions.html\n"
     ]
    },
    {
     "name": "stderr",
     "output_type": "stream",
     "text": [
      " 82%|████████▏ | 40/49 [00:23<00:09,  1.09s/it]"
     ]
    },
    {
     "name": "stdout",
     "output_type": "stream",
     "text": [
      "'NoneType' object has no attribute 'text'\n",
      "https://www.cathaypacific.com/cx/sc_CN/about-us/contact-us/faqs/online-booking-award-travel-redemption/change-booking.html\n"
     ]
    },
    {
     "name": "stderr",
     "output_type": "stream",
     "text": [
      "100%|██████████| 49/49 [00:26<00:00,  1.93it/s]\n",
      "  0%|          | 0/49 [00:00<?, ?it/s]"
     ]
    },
    {
     "name": "stdout",
     "output_type": "stream",
     "text": [
      "zh_HK >> zh-HK : 49\n"
     ]
    },
    {
     "name": "stderr",
     "output_type": "stream",
     "text": [
      " 35%|███▍      | 17/49 [00:05<00:20,  1.54it/s]"
     ]
    },
    {
     "name": "stdout",
     "output_type": "stream",
     "text": [
      "'NoneType' object has no attribute 'text'\n",
      "https://www.cathaypacific.com/cx/zh_HK/about-us/contact-us/faqs/online-booking-award-travel-redemption/change-booking.html\n"
     ]
    },
    {
     "name": "stderr",
     "output_type": "stream",
     "text": [
      " 90%|████████▉ | 44/49 [00:19<00:04,  1.03it/s]"
     ]
    },
    {
     "name": "stdout",
     "output_type": "stream",
     "text": [
      "'NoneType' object has no attribute 'text'\n",
      "https://www.cathaypacific.com/cx/zh_HK/about-us/contact-us/faqs/online-booking-award-travel-redemption/general-questions.html\n"
     ]
    },
    {
     "name": "stderr",
     "output_type": "stream",
     "text": [
      "100%|██████████| 49/49 [00:22<00:00,  1.06s/it]\n",
      "  2%|▏         | 1/49 [00:00<00:06,  7.59it/s]"
     ]
    },
    {
     "name": "stdout",
     "output_type": "stream",
     "text": [
      "en_HK >> en : 49\n"
     ]
    },
    {
     "name": "stderr",
     "output_type": "stream",
     "text": [
      " 14%|█▍        | 7/49 [00:03<00:25,  1.64it/s]"
     ]
    },
    {
     "name": "stdout",
     "output_type": "stream",
     "text": [
      "'NoneType' object has no attribute 'text'\n",
      "https://www.cathaypacific.com/cx/en_HK/about-us/contact-us/faqs/online-booking-award-travel-redemption/change-booking.html\n"
     ]
    },
    {
     "name": "stderr",
     "output_type": "stream",
     "text": [
      " 80%|███████▉  | 39/49 [00:23<00:07,  1.39it/s]"
     ]
    },
    {
     "name": "stdout",
     "output_type": "stream",
     "text": [
      "'NoneType' object has no attribute 'text'\n",
      "https://www.cathaypacific.com/cx/en_HK/about-us/contact-us/faqs/online-booking-award-travel-redemption/general-questions.html\n"
     ]
    },
    {
     "name": "stderr",
     "output_type": "stream",
     "text": [
      "100%|██████████| 49/49 [00:30<00:00,  1.03s/it]\n"
     ]
    }
   ],
   "source": [
    "lang_codes = {\n",
    "    'sc_CN': 'cn',\n",
    "    'en_HK': 'en',\n",
    "    'zh_HK': 'zh-HK',\n",
    "    'zh_TW': 'zh-TW',\n",
    "    'ja_JP': 'ja'\n",
    "}\n",
    "name_mapping = {\n",
    "    'sc_CN': '國泰航空有限公司',\n",
    "    'en_HK': 'Cathay Pacific Airways Limited',\n",
    "    'zh_HK': '國泰航空有限公司',\n",
    "    'zh_TW': '國泰航空有限公司',\n",
    "    'ja_JP': 'キャセイパシフィック航空'\n",
    "}\n",
    "desc_mapping = {\n",
    "    'sc_CN': '國泰航空公司是一家總部位於香港民用航空公司，為太古集團及寰宇一家成員，以香港國際機場作為樞紐。旗下子公司包括國泰港龍航空、香港快運航空、香港華民航空及香港機場地勤服務公司。',\n",
    "    'en_HK': 'Cathay Pacific Airways Limited (CPA), also known as Cathay Pacific or Cathay, is the flag carrier of Hong Kong, with its head office and main hub located at Hong Kong International Airport.',\n",
    "    'zh_HK': '國泰航空公司是一家總部位於香港民用航空公司，為太古集團及寰宇一家成員，以香港國際機場作為樞紐。旗下子公司包括國泰港龍航空、香港快運航空、香港華民航空及香港機場地勤服務公司。',\n",
    "    'zh_TW': '國泰航空公司是一家總部位於香港民用航空公司，為太古集團及寰宇一家成員，以香港國際機場作為樞紐。旗下子公司包括國泰港龍航空、香港快運航空、香港華民航空及香港機場地勤服務公司。',\n",
    "    'ja_JP': 'キャセイパシフィック航空（ 國泰航空公司、Cathay Pacific Airlines Limited, HKSE：0293）は、香港を拠点とする航空会社。香港のフラッグ・キャリアである。'\n",
    "    \n",
    "}\n",
    "\n",
    "docs = []\n",
    "\n",
    "for their_lang_code, our_lang_code in lang_codes.items():\n",
    "\n",
    "    seed = 'https://www.cathaypacific.com/cx/'+their_lang_code+'/about-us/contact-us/faqs.html'\n",
    "    html = fetch_url(seed, timeout=(4,8))\n",
    "    soup = bs4(html)\n",
    "    urls = set()\n",
    "    for e in soup.select('.content-block [href]'):\n",
    "        url = e['href']\n",
    "        url = urllib.parse.urljoin(seed,url).split('#')[0].split('?')[0]  # we don't need path after # or ?\n",
    "        \n",
    "        if '/faqs/' in url:\n",
    "            if url.startswith('http://'):\n",
    "                continue\n",
    "                \n",
    "            urls.add(url)\n",
    "            \n",
    "    print(their_lang_code,'>>',our_lang_code,':',len(urls))\n",
    "    \n",
    "    for url in tqdm(urls):\n",
    "        \n",
    "        doc = {\n",
    "            'website': 'Cathay Pacific Airways Limited',\n",
    "            'name'   : name_mapping[their_lang_code],\n",
    "            'section': None,\n",
    "            'desc'   : desc_mapping[their_lang_code],\n",
    "            'url'    : None,\n",
    "            'lang'   : our_lang_code,\n",
    "            'items'  : []\n",
    "        }\n",
    "\n",
    "        \n",
    "        # Copy from above\n",
    "        \n",
    "        html = fetch_url(url)\n",
    "        soup = bs4(html)\n",
    "        result = []\n",
    "        for e in soup.select('.panel'):\n",
    "            q = e.select('.panel-heading')[0]\n",
    "            a = e.select('.text.parbase.section')[0]\n",
    "\n",
    "            q = re.sub(r\"\\d+. \", \"\", q.text.strip()).strip()\n",
    "            a = a.decode_contents().strip()\n",
    "            result.append({\n",
    "                'q': q,\n",
    "                'a': a,\n",
    "            })\n",
    "            \n",
    "            \n",
    "            \n",
    "        # new here to identify the section\n",
    "\n",
    "        try:\n",
    "            section = soup.find('h1').text.strip()\n",
    "            doc['section'] = section\n",
    "\n",
    "            doc['url'] = url\n",
    "\n",
    "            doc['items'] = result\n",
    "\n",
    "            docs.append(doc)\n",
    "        except Exception as e:\n",
    "            \n",
    "            # I added this because some urls are redirected to other websites\n",
    "            \n",
    "            # lets ignore it\n",
    "            \n",
    "            \n",
    "            print(e)\n",
    "            print(url)"
   ]
  },
  {
   "cell_type": "code",
   "execution_count": 50,
   "metadata": {},
   "outputs": [
    {
     "data": {
      "text/plain": [
       "2230"
      ]
     },
     "execution_count": 50,
     "metadata": {},
     "output_type": "execute_result"
    }
   ],
   "source": [
    "count = sum(1 for doc in docs for e in doc['items'])\n",
    "count"
   ]
  },
  {
   "cell_type": "code",
   "execution_count": 51,
   "metadata": {},
   "outputs": [],
   "source": [
    "with open('data/cathaypacific.json','w') as f:\n",
    "    json.dump(docs,f)"
   ]
  },
  {
   "cell_type": "code",
   "execution_count": null,
   "metadata": {},
   "outputs": [],
   "source": []
  },
  {
   "cell_type": "code",
   "execution_count": null,
   "metadata": {},
   "outputs": [],
   "source": []
  },
  {
   "cell_type": "code",
   "execution_count": null,
   "metadata": {},
   "outputs": [],
   "source": []
  },
  {
   "cell_type": "code",
   "execution_count": null,
   "metadata": {},
   "outputs": [],
   "source": []
  }
 ],
 "metadata": {
  "kernelspec": {
   "display_name": "Python 3.5",
   "language": "python",
   "name": "python3"
  },
  "language_info": {
   "codemirror_mode": {
    "name": "ipython",
    "version": 3
   },
   "file_extension": ".py",
   "mimetype": "text/x-python",
   "name": "python",
   "nbconvert_exporter": "python",
   "pygments_lexer": "ipython3",
   "version": "3.5.2"
  }
 },
 "nbformat": 4,
 "nbformat_minor": 2
}
